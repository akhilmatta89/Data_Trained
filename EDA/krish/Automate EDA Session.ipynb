{
 "cells": [
  {
   "cell_type": "code",
   "execution_count": 1,
   "id": "84090473",
   "metadata": {},
   "outputs": [],
   "source": [
    "## Automated EDA Technique"
   ]
  },
  {
   "cell_type": "code",
   "execution_count": 2,
   "id": "3ce4ee96",
   "metadata": {},
   "outputs": [],
   "source": [
    "#pandas profiling"
   ]
  },
  {
   "cell_type": "code",
   "execution_count": 3,
   "id": "ba93e26c",
   "metadata": {},
   "outputs": [
    {
     "name": "stdout",
     "output_type": "stream",
     "text": [
      "Requirement already satisfied: pandas_profiling in c:\\users\\akhil\\anaconda3\\lib\\site-packages (3.1.0)\n",
      "Requirement already satisfied: joblib~=1.0.1 in c:\\users\\akhil\\anaconda3\\lib\\site-packages (from pandas_profiling) (1.0.1)\n",
      "Requirement already satisfied: pandas!=1.0.0,!=1.0.1,!=1.0.2,!=1.1.0,>=0.25.3 in c:\\users\\akhil\\anaconda3\\lib\\site-packages (from pandas_profiling) (1.2.4)\n",
      "Requirement already satisfied: PyYAML>=5.0.0 in c:\\users\\akhil\\anaconda3\\lib\\site-packages (from pandas_profiling) (5.4.1)\n",
      "Requirement already satisfied: htmlmin>=0.1.12 in c:\\users\\akhil\\anaconda3\\lib\\site-packages (from pandas_profiling) (0.1.12)\n",
      "Requirement already satisfied: phik>=0.11.1 in c:\\users\\akhil\\anaconda3\\lib\\site-packages (from pandas_profiling) (0.12.2)\n",
      "Requirement already satisfied: tangled-up-in-unicode==0.1.0 in c:\\users\\akhil\\anaconda3\\lib\\site-packages (from pandas_profiling) (0.1.0)\n",
      "Requirement already satisfied: markupsafe~=2.0.1 in c:\\users\\akhil\\anaconda3\\lib\\site-packages (from pandas_profiling) (2.0.1)\n",
      "Requirement already satisfied: requests>=2.24.0 in c:\\users\\akhil\\anaconda3\\lib\\site-packages (from pandas_profiling) (2.25.1)\n",
      "Requirement already satisfied: seaborn>=0.10.1 in c:\\users\\akhil\\anaconda3\\lib\\site-packages (from pandas_profiling) (0.11.1)\n",
      "Requirement already satisfied: missingno>=0.4.2 in c:\\users\\akhil\\anaconda3\\lib\\site-packages (from pandas_profiling) (0.5.1)\n",
      "Requirement already satisfied: pydantic>=1.8.1 in c:\\users\\akhil\\anaconda3\\lib\\site-packages (from pandas_profiling) (1.9.0)\n",
      "Requirement already satisfied: jinja2>=2.11.1 in c:\\users\\akhil\\anaconda3\\lib\\site-packages (from pandas_profiling) (2.11.3)\n",
      "Requirement already satisfied: matplotlib>=3.2.0 in c:\\users\\akhil\\anaconda3\\lib\\site-packages (from pandas_profiling) (3.3.4)\n",
      "Requirement already satisfied: numpy>=1.16.0 in c:\\users\\akhil\\anaconda3\\lib\\site-packages (from pandas_profiling) (1.20.1)\n",
      "Requirement already satisfied: multimethod>=1.4 in c:\\users\\akhil\\anaconda3\\lib\\site-packages (from pandas_profiling) (1.8)\n",
      "Requirement already satisfied: scipy>=1.4.1 in c:\\users\\akhil\\anaconda3\\lib\\site-packages (from pandas_profiling) (1.6.2)\n",
      "Requirement already satisfied: tqdm>=4.48.2 in c:\\users\\akhil\\anaconda3\\lib\\site-packages (from pandas_profiling) (4.59.0)\n",
      "Requirement already satisfied: visions[type_image_path]==0.7.4 in c:\\users\\akhil\\anaconda3\\lib\\site-packages (from pandas_profiling) (0.7.4)\n",
      "Requirement already satisfied: attrs>=19.3.0 in c:\\users\\akhil\\anaconda3\\lib\\site-packages (from visions[type_image_path]==0.7.4->pandas_profiling) (20.3.0)\n",
      "Requirement already satisfied: networkx>=2.4 in c:\\users\\akhil\\anaconda3\\lib\\site-packages (from visions[type_image_path]==0.7.4->pandas_profiling) (2.5)\n",
      "Requirement already satisfied: imagehash in c:\\users\\akhil\\anaconda3\\lib\\site-packages (from visions[type_image_path]==0.7.4->pandas_profiling) (4.2.1)\n",
      "Requirement already satisfied: Pillow in c:\\users\\akhil\\anaconda3\\lib\\site-packages (from visions[type_image_path]==0.7.4->pandas_profiling) (8.2.0)\n",
      "Requirement already satisfied: kiwisolver>=1.0.1 in c:\\users\\akhil\\anaconda3\\lib\\site-packages (from matplotlib>=3.2.0->pandas_profiling) (1.3.1)\n",
      "Requirement already satisfied: python-dateutil>=2.1 in c:\\users\\akhil\\anaconda3\\lib\\site-packages (from matplotlib>=3.2.0->pandas_profiling) (2.8.1)\n",
      "Requirement already satisfied: pyparsing!=2.0.4,!=2.1.2,!=2.1.6,>=2.0.3 in c:\\users\\akhil\\anaconda3\\lib\\site-packages (from matplotlib>=3.2.0->pandas_profiling) (2.4.7)\n",
      "Requirement already satisfied: cycler>=0.10 in c:\\users\\akhil\\anaconda3\\lib\\site-packages (from matplotlib>=3.2.0->pandas_profiling) (0.10.0)\n",
      "Requirement already satisfied: six in c:\\users\\akhil\\anaconda3\\lib\\site-packages (from cycler>=0.10->matplotlib>=3.2.0->pandas_profiling) (1.15.0)\n",
      "Requirement already satisfied: decorator>=4.3.0 in c:\\users\\akhil\\anaconda3\\lib\\site-packages (from networkx>=2.4->visions[type_image_path]==0.7.4->pandas_profiling) (5.0.6)\n",
      "Requirement already satisfied: pytz>=2017.3 in c:\\users\\akhil\\anaconda3\\lib\\site-packages (from pandas!=1.0.0,!=1.0.1,!=1.0.2,!=1.1.0,>=0.25.3->pandas_profiling) (2021.1)\n",
      "Requirement already satisfied: typing-extensions>=3.7.4.3 in c:\\users\\akhil\\anaconda3\\lib\\site-packages (from pydantic>=1.8.1->pandas_profiling) (3.7.4.3)\n",
      "Requirement already satisfied: chardet<5,>=3.0.2 in c:\\users\\akhil\\anaconda3\\lib\\site-packages (from requests>=2.24.0->pandas_profiling) (4.0.0)\n",
      "Requirement already satisfied: idna<3,>=2.5 in c:\\users\\akhil\\anaconda3\\lib\\site-packages (from requests>=2.24.0->pandas_profiling) (2.10)\n",
      "Requirement already satisfied: urllib3<1.27,>=1.21.1 in c:\\users\\akhil\\anaconda3\\lib\\site-packages (from requests>=2.24.0->pandas_profiling) (1.26.4)\n",
      "Requirement already satisfied: certifi>=2017.4.17 in c:\\users\\akhil\\anaconda3\\lib\\site-packages (from requests>=2.24.0->pandas_profiling) (2020.12.5)\n",
      "Requirement already satisfied: PyWavelets in c:\\users\\akhil\\anaconda3\\lib\\site-packages (from imagehash->visions[type_image_path]==0.7.4->pandas_profiling) (1.1.1)\n"
     ]
    }
   ],
   "source": [
    "!pip install pandas_profiling"
   ]
  },
  {
   "cell_type": "code",
   "execution_count": 4,
   "id": "176dc9c3",
   "metadata": {},
   "outputs": [],
   "source": [
    "import pandas_profiling\n",
    "import seaborn as sns"
   ]
  },
  {
   "cell_type": "code",
   "execution_count": 5,
   "id": "c1d5c0cf",
   "metadata": {},
   "outputs": [
    {
     "data": {
      "text/html": [
       "<div>\n",
       "<style scoped>\n",
       "    .dataframe tbody tr th:only-of-type {\n",
       "        vertical-align: middle;\n",
       "    }\n",
       "\n",
       "    .dataframe tbody tr th {\n",
       "        vertical-align: top;\n",
       "    }\n",
       "\n",
       "    .dataframe thead th {\n",
       "        text-align: right;\n",
       "    }\n",
       "</style>\n",
       "<table border=\"1\" class=\"dataframe\">\n",
       "  <thead>\n",
       "    <tr style=\"text-align: right;\">\n",
       "      <th></th>\n",
       "      <th>total_bill</th>\n",
       "      <th>tip</th>\n",
       "      <th>sex</th>\n",
       "      <th>smoker</th>\n",
       "      <th>day</th>\n",
       "      <th>time</th>\n",
       "      <th>size</th>\n",
       "    </tr>\n",
       "  </thead>\n",
       "  <tbody>\n",
       "    <tr>\n",
       "      <th>0</th>\n",
       "      <td>16.99</td>\n",
       "      <td>1.01</td>\n",
       "      <td>Female</td>\n",
       "      <td>No</td>\n",
       "      <td>Sun</td>\n",
       "      <td>Dinner</td>\n",
       "      <td>2</td>\n",
       "    </tr>\n",
       "    <tr>\n",
       "      <th>1</th>\n",
       "      <td>10.34</td>\n",
       "      <td>1.66</td>\n",
       "      <td>Male</td>\n",
       "      <td>No</td>\n",
       "      <td>Sun</td>\n",
       "      <td>Dinner</td>\n",
       "      <td>3</td>\n",
       "    </tr>\n",
       "    <tr>\n",
       "      <th>2</th>\n",
       "      <td>21.01</td>\n",
       "      <td>3.50</td>\n",
       "      <td>Male</td>\n",
       "      <td>No</td>\n",
       "      <td>Sun</td>\n",
       "      <td>Dinner</td>\n",
       "      <td>3</td>\n",
       "    </tr>\n",
       "    <tr>\n",
       "      <th>3</th>\n",
       "      <td>23.68</td>\n",
       "      <td>3.31</td>\n",
       "      <td>Male</td>\n",
       "      <td>No</td>\n",
       "      <td>Sun</td>\n",
       "      <td>Dinner</td>\n",
       "      <td>2</td>\n",
       "    </tr>\n",
       "    <tr>\n",
       "      <th>4</th>\n",
       "      <td>24.59</td>\n",
       "      <td>3.61</td>\n",
       "      <td>Female</td>\n",
       "      <td>No</td>\n",
       "      <td>Sun</td>\n",
       "      <td>Dinner</td>\n",
       "      <td>4</td>\n",
       "    </tr>\n",
       "  </tbody>\n",
       "</table>\n",
       "</div>"
      ],
      "text/plain": [
       "   total_bill   tip     sex smoker  day    time  size\n",
       "0       16.99  1.01  Female     No  Sun  Dinner     2\n",
       "1       10.34  1.66    Male     No  Sun  Dinner     3\n",
       "2       21.01  3.50    Male     No  Sun  Dinner     3\n",
       "3       23.68  3.31    Male     No  Sun  Dinner     2\n",
       "4       24.59  3.61  Female     No  Sun  Dinner     4"
      ]
     },
     "execution_count": 5,
     "metadata": {},
     "output_type": "execute_result"
    }
   ],
   "source": [
    "df=sns.load_dataset('tips')\n",
    "df.head()"
   ]
  },
  {
   "cell_type": "code",
   "execution_count": 6,
   "id": "59309f25",
   "metadata": {},
   "outputs": [],
   "source": [
    "from pandas_profiling import ProfileReport"
   ]
  },
  {
   "cell_type": "code",
   "execution_count": 7,
   "id": "c0049cab",
   "metadata": {},
   "outputs": [],
   "source": [
    "profile = ProfileReport(df,explorative=True,dark_mode=True)"
   ]
  },
  {
   "cell_type": "code",
   "execution_count": 8,
   "id": "af3fee5c",
   "metadata": {},
   "outputs": [
    {
     "data": {
      "application/vnd.jupyter.widget-view+json": {
       "model_id": "e1117cbd154a4cc5bd90c33e653ec70d",
       "version_major": 2,
       "version_minor": 0
      },
      "text/plain": [
       "Summarize dataset:   0%|          | 0/5 [00:00<?, ?it/s]"
      ]
     },
     "metadata": {},
     "output_type": "display_data"
    },
    {
     "data": {
      "application/vnd.jupyter.widget-view+json": {
       "model_id": "9753197761814759b1823ebc044e5465",
       "version_major": 2,
       "version_minor": 0
      },
      "text/plain": [
       "Generate report structure:   0%|          | 0/1 [00:00<?, ?it/s]"
      ]
     },
     "metadata": {},
     "output_type": "display_data"
    },
    {
     "data": {
      "application/vnd.jupyter.widget-view+json": {
       "model_id": "0d1ba6f9f7b94886a9c7a850d6a9deca",
       "version_major": 2,
       "version_minor": 0
      },
      "text/plain": [
       "Render HTML:   0%|          | 0/1 [00:00<?, ?it/s]"
      ]
     },
     "metadata": {},
     "output_type": "display_data"
    },
    {
     "data": {
      "application/vnd.jupyter.widget-view+json": {
       "model_id": "e241bee95c5b4864b80707447ec88d98",
       "version_major": 2,
       "version_minor": 0
      },
      "text/plain": [
       "Export report to file:   0%|          | 0/1 [00:00<?, ?it/s]"
      ]
     },
     "metadata": {},
     "output_type": "display_data"
    }
   ],
   "source": [
    "profile.to_file('output.html')"
   ]
  },
  {
   "cell_type": "code",
   "execution_count": 9,
   "id": "04419fbd",
   "metadata": {},
   "outputs": [
    {
     "name": "stdout",
     "output_type": "stream",
     "text": [
      "Collecting dtale\n",
      "  Using cached dtale-2.2.0-py2.py3-none-any.whl (12.7 MB)\n",
      "Collecting dash-daq\n",
      "  Using cached dash_daq-0.5.0-py3-none-any.whl\n",
      "Requirement already satisfied: matplotlib in c:\\users\\akhil\\anaconda3\\lib\\site-packages (from dtale) (3.3.4)\n",
      "Requirement already satisfied: xlrd in c:\\users\\akhil\\anaconda3\\lib\\site-packages (from dtale) (2.0.1)\n",
      "Requirement already satisfied: openpyxl in c:\\users\\akhil\\anaconda3\\lib\\site-packages (from dtale) (3.0.7)\n",
      "Collecting dash-colorscales\n",
      "  Using cached dash_colorscales-0.0.4-py3-none-any.whl\n",
      "Collecting dash>=2.0.0\n",
      "  Using cached dash-2.3.1-py3-none-any.whl (9.6 MB)\n",
      "Requirement already satisfied: plotly>=5.0.0 in c:\\users\\akhil\\anaconda3\\lib\\site-packages (from dtale) (5.7.0)\n",
      "Requirement already satisfied: pandas in c:\\users\\akhil\\anaconda3\\lib\\site-packages (from dtale) (1.2.4)\n",
      "Requirement already satisfied: Flask in c:\\users\\akhil\\anaconda3\\lib\\site-packages (from dtale) (1.1.2)\n",
      "Requirement already satisfied: six in c:\\users\\akhil\\anaconda3\\lib\\site-packages (from dtale) (1.15.0)\n",
      "Requirement already satisfied: scipy in c:\\users\\akhil\\anaconda3\\lib\\site-packages (from dtale) (1.6.2)\n",
      "Requirement already satisfied: seaborn in c:\\users\\akhil\\anaconda3\\lib\\site-packages (from dtale) (0.11.1)\n",
      "Requirement already satisfied: requests in c:\\users\\akhil\\anaconda3\\lib\\site-packages (from dtale) (2.25.1)\n",
      "Requirement already satisfied: networkx in c:\\users\\akhil\\anaconda3\\lib\\site-packages (from dtale) (2.5)\n",
      "Collecting strsimpy\n",
      "  Using cached strsimpy-0.2.1-py3-none-any.whl (45 kB)\n",
      "Requirement already satisfied: cycler in c:\\users\\akhil\\anaconda3\\lib\\site-packages (from dtale) (0.10.0)\n",
      "Collecting squarify\n",
      "  Using cached squarify-0.4.3-py3-none-any.whl (4.3 kB)\n",
      "Collecting ppscore\n",
      "  Using cached ppscore-1.2.0-py2.py3-none-any.whl\n",
      "Requirement already satisfied: itsdangerous in c:\\users\\akhil\\anaconda3\\lib\\site-packages (from dtale) (1.1.0)\n",
      "Requirement already satisfied: future>=0.14.0 in c:\\users\\akhil\\anaconda3\\lib\\site-packages (from dtale) (0.18.2)\n",
      "Collecting lz4\n",
      "  Using cached lz4-4.0.0-cp38-cp38-win_amd64.whl (96 kB)\n",
      "Collecting xarray\n",
      "  Using cached xarray-2022.3.0-py3-none-any.whl (870 kB)\n",
      "Requirement already satisfied: numpy in c:\\users\\akhil\\anaconda3\\lib\\site-packages (from dtale) (1.20.1)\n",
      "Collecting dash-bootstrap-components\n",
      "  Using cached dash_bootstrap_components-1.1.0-py3-none-any.whl (210 kB)\n",
      "Collecting flask-ngrok\n",
      "  Using cached flask_ngrok-0.0.25-py3-none-any.whl (3.1 kB)\n",
      "Requirement already satisfied: Flask-Compress in c:\\users\\akhil\\anaconda3\\lib\\site-packages (from dtale) (1.12)\n",
      "Collecting missingno<=0.4.2\n",
      "  Using cached missingno-0.4.2-py3-none-any.whl (9.7 kB)\n",
      "Requirement already satisfied: et-xmlfile in c:\\users\\akhil\\anaconda3\\lib\\site-packages (from dtale) (1.0.1)\n",
      "Requirement already satisfied: scikit-learn==0.24.2 in c:\\users\\akhil\\anaconda3\\lib\\site-packages (from dtale) (0.24.2)\n",
      "Collecting kaleido\n",
      "  Using cached kaleido-0.2.1-py2.py3-none-win_amd64.whl (65.9 MB)\n",
      "Requirement already satisfied: statsmodels in c:\\users\\akhil\\anaconda3\\lib\\site-packages (from dtale) (0.12.2)\n",
      "Requirement already satisfied: joblib>=0.11 in c:\\users\\akhil\\anaconda3\\lib\\site-packages (from scikit-learn==0.24.2->dtale) (1.0.1)\n",
      "Requirement already satisfied: threadpoolctl>=2.0.0 in c:\\users\\akhil\\anaconda3\\lib\\site-packages (from scikit-learn==0.24.2->dtale) (2.1.0)\n",
      "Requirement already satisfied: dash-html-components==2.0.0 in c:\\users\\akhil\\anaconda3\\lib\\site-packages (from dash>=2.0.0->dtale) (2.0.0)\n",
      "Requirement already satisfied: dash-table==5.0.0 in c:\\users\\akhil\\anaconda3\\lib\\site-packages (from dash>=2.0.0->dtale) (5.0.0)\n",
      "Requirement already satisfied: dash-core-components==2.0.0 in c:\\users\\akhil\\anaconda3\\lib\\site-packages (from dash>=2.0.0->dtale) (2.0.0)\n",
      "Requirement already satisfied: Werkzeug>=0.15 in c:\\users\\akhil\\anaconda3\\lib\\site-packages (from Flask->dtale) (1.0.1)\n",
      "Requirement already satisfied: Jinja2>=2.10.1 in c:\\users\\akhil\\anaconda3\\lib\\site-packages (from Flask->dtale) (2.11.3)\n",
      "Requirement already satisfied: click>=5.1 in c:\\users\\akhil\\anaconda3\\lib\\site-packages (from Flask->dtale) (7.1.2)\n",
      "Requirement already satisfied: MarkupSafe>=0.23 in c:\\users\\akhil\\anaconda3\\lib\\site-packages (from Jinja2>=2.10.1->Flask->dtale) (2.0.1)\n",
      "Requirement already satisfied: tenacity>=6.2.0 in c:\\users\\akhil\\anaconda3\\lib\\site-packages (from plotly>=5.0.0->dtale) (8.0.1)\n",
      "Requirement already satisfied: brotli in c:\\users\\akhil\\anaconda3\\lib\\site-packages (from Flask-Compress->dtale) (1.0.9)\n",
      "Requirement already satisfied: pyparsing!=2.0.4,!=2.1.2,!=2.1.6,>=2.0.3 in c:\\users\\akhil\\anaconda3\\lib\\site-packages (from matplotlib->dtale) (2.4.7)\n",
      "Requirement already satisfied: python-dateutil>=2.1 in c:\\users\\akhil\\anaconda3\\lib\\site-packages (from matplotlib->dtale) (2.8.1)\n",
      "Requirement already satisfied: pillow>=6.2.0 in c:\\users\\akhil\\anaconda3\\lib\\site-packages (from matplotlib->dtale) (8.2.0)\n",
      "Requirement already satisfied: kiwisolver>=1.0.1 in c:\\users\\akhil\\anaconda3\\lib\\site-packages (from matplotlib->dtale) (1.3.1)\n",
      "Requirement already satisfied: decorator>=4.3.0 in c:\\users\\akhil\\anaconda3\\lib\\site-packages (from networkx->dtale) (5.0.6)\n",
      "Requirement already satisfied: pytz>=2017.3 in c:\\users\\akhil\\anaconda3\\lib\\site-packages (from pandas->dtale) (2021.1)\n",
      "Requirement already satisfied: urllib3<1.27,>=1.21.1 in c:\\users\\akhil\\anaconda3\\lib\\site-packages (from requests->dtale) (1.26.4)\n",
      "Requirement already satisfied: idna<3,>=2.5 in c:\\users\\akhil\\anaconda3\\lib\\site-packages (from requests->dtale) (2.10)\n",
      "Requirement already satisfied: certifi>=2017.4.17 in c:\\users\\akhil\\anaconda3\\lib\\site-packages (from requests->dtale) (2020.12.5)\n",
      "Requirement already satisfied: chardet<5,>=3.0.2 in c:\\users\\akhil\\anaconda3\\lib\\site-packages (from requests->dtale) (4.0.0)\n",
      "Requirement already satisfied: patsy>=0.5 in c:\\users\\akhil\\anaconda3\\lib\\site-packages (from statsmodels->dtale) (0.5.1)\n",
      "Requirement already satisfied: packaging>=20.0 in c:\\users\\akhil\\anaconda3\\lib\\site-packages (from xarray->dtale) (20.9)\n",
      "Installing collected packages: dash, xarray, strsimpy, squarify, ppscore, missingno, lz4, kaleido, flask-ngrok, dash-daq, dash-colorscales, dash-bootstrap-components, dtale\n",
      "  Attempting uninstall: missingno\n",
      "    Found existing installation: missingno 0.5.1\n",
      "    Uninstalling missingno-0.5.1:\n",
      "      Successfully uninstalled missingno-0.5.1\n",
      "Successfully installed dash-2.3.1 dash-bootstrap-components-1.1.0 dash-colorscales-0.0.4 dash-daq-0.5.0 dtale-2.2.0 flask-ngrok-0.0.25 kaleido-0.2.1 lz4-4.0.0 missingno-0.4.2 ppscore-1.2.0 squarify-0.4.3 strsimpy-0.2.1 xarray-2022.3.0\n"
     ]
    }
   ],
   "source": [
    "!pip install dtale"
   ]
  },
  {
   "cell_type": "code",
   "execution_count": 10,
   "id": "88b985d7",
   "metadata": {},
   "outputs": [],
   "source": [
    "import pandas as pd\n",
    "import seaborn as sns"
   ]
  },
  {
   "cell_type": "code",
   "execution_count": 11,
   "id": "8f20efee",
   "metadata": {},
   "outputs": [],
   "source": [
    "df = sns.load_dataset('titanic')"
   ]
  },
  {
   "cell_type": "code",
   "execution_count": 12,
   "id": "85925f5c",
   "metadata": {},
   "outputs": [],
   "source": [
    "import dtale"
   ]
  },
  {
   "cell_type": "code",
   "execution_count": 13,
   "id": "e29c40fc",
   "metadata": {},
   "outputs": [
    {
     "data": {
      "text/html": [
       "\n",
       "        <iframe\n",
       "            width=\"100%\"\n",
       "            height=\"475\"\n",
       "            src=\"http://Akhil-World:40000/dtale/iframe/1\"\n",
       "            frameborder=\"0\"\n",
       "            allowfullscreen\n",
       "        ></iframe>\n",
       "        "
      ],
      "text/plain": [
       "<IPython.lib.display.IFrame at 0x2c93415a910>"
      ]
     },
     "metadata": {},
     "output_type": "display_data"
    },
    {
     "data": {
      "text/plain": []
     },
     "execution_count": 13,
     "metadata": {},
     "output_type": "execute_result"
    }
   ],
   "source": [
    "dtale.show(df)"
   ]
  },
  {
   "cell_type": "code",
   "execution_count": 14,
   "id": "b2fbd6ff",
   "metadata": {},
   "outputs": [
    {
     "name": "stdout",
     "output_type": "stream",
     "text": [
      "Collecting sweetviz\n",
      "  Downloading sweetviz-2.1.3-py3-none-any.whl (15.1 MB)\n",
      "Requirement already satisfied: scipy>=1.3.2 in c:\\users\\akhil\\anaconda3\\lib\\site-packages (from sweetviz) (1.6.2)\n",
      "Requirement already satisfied: tqdm>=4.43.0 in c:\\users\\akhil\\anaconda3\\lib\\site-packages (from sweetviz) (4.59.0)\n",
      "Requirement already satisfied: numpy>=1.16.0 in c:\\users\\akhil\\anaconda3\\lib\\site-packages (from sweetviz) (1.20.1)\n",
      "Requirement already satisfied: matplotlib>=3.1.3 in c:\\users\\akhil\\anaconda3\\lib\\site-packages (from sweetviz) (3.3.4)\n",
      "Requirement already satisfied: pandas!=1.0.0,!=1.0.1,!=1.0.2,>=0.25.3 in c:\\users\\akhil\\anaconda3\\lib\\site-packages (from sweetviz) (1.2.4)\n",
      "Collecting importlib-resources>=1.2.0\n",
      "  Downloading importlib_resources-5.7.1-py3-none-any.whl (28 kB)\n",
      "Requirement already satisfied: jinja2>=2.11.1 in c:\\users\\akhil\\anaconda3\\lib\\site-packages (from sweetviz) (2.11.3)\n",
      "Requirement already satisfied: zipp>=3.1.0 in c:\\users\\akhil\\anaconda3\\lib\\site-packages (from importlib-resources>=1.2.0->sweetviz) (3.4.1)\n",
      "Requirement already satisfied: MarkupSafe>=0.23 in c:\\users\\akhil\\anaconda3\\lib\\site-packages (from jinja2>=2.11.1->sweetviz) (2.0.1)\n",
      "Requirement already satisfied: kiwisolver>=1.0.1 in c:\\users\\akhil\\anaconda3\\lib\\site-packages (from matplotlib>=3.1.3->sweetviz) (1.3.1)\n",
      "Requirement already satisfied: pillow>=6.2.0 in c:\\users\\akhil\\anaconda3\\lib\\site-packages (from matplotlib>=3.1.3->sweetviz) (8.2.0)\n",
      "Requirement already satisfied: pyparsing!=2.0.4,!=2.1.2,!=2.1.6,>=2.0.3 in c:\\users\\akhil\\anaconda3\\lib\\site-packages (from matplotlib>=3.1.3->sweetviz) (2.4.7)\n",
      "Requirement already satisfied: cycler>=0.10 in c:\\users\\akhil\\anaconda3\\lib\\site-packages (from matplotlib>=3.1.3->sweetviz) (0.10.0)\n",
      "Requirement already satisfied: python-dateutil>=2.1 in c:\\users\\akhil\\anaconda3\\lib\\site-packages (from matplotlib>=3.1.3->sweetviz) (2.8.1)\n",
      "Requirement already satisfied: six in c:\\users\\akhil\\anaconda3\\lib\\site-packages (from cycler>=0.10->matplotlib>=3.1.3->sweetviz) (1.15.0)\n",
      "Requirement already satisfied: pytz>=2017.3 in c:\\users\\akhil\\anaconda3\\lib\\site-packages (from pandas!=1.0.0,!=1.0.1,!=1.0.2,>=0.25.3->sweetviz) (2021.1)\n",
      "Installing collected packages: importlib-resources, sweetviz\n",
      "Successfully installed importlib-resources-5.7.1 sweetviz-2.1.3\n"
     ]
    }
   ],
   "source": [
    "#sweet viz visualisation\n",
    "!pip install sweetviz"
   ]
  },
  {
   "cell_type": "code",
   "execution_count": 17,
   "id": "d585ee03",
   "metadata": {},
   "outputs": [
    {
     "data": {
      "application/vnd.jupyter.widget-view+json": {
       "model_id": "65bb9867967b4373bb09e5b7fc7dda1d",
       "version_major": 2,
       "version_minor": 0
      },
      "text/plain": [
       "                                             |                                             | [  0%]   00:00 ->…"
      ]
     },
     "metadata": {},
     "output_type": "display_data"
    },
    {
     "name": "stdout",
     "output_type": "stream",
     "text": [
      "Report newreport.html was generated! NOTEBOOK/COLAB USERS: the web browser MAY not pop up, regardless, the report IS saved in your notebook/colab files.\n"
     ]
    }
   ],
   "source": [
    "import sweetviz as sv\n",
    "report = sv.analyze(df)\n",
    "report.show_html('newreport.html')"
   ]
  },
  {
   "cell_type": "code",
   "execution_count": 22,
   "id": "8b2c52c0",
   "metadata": {},
   "outputs": [
    {
     "name": "stdout",
     "output_type": "stream",
     "text": [
      "Collecting dataprep\n",
      "  Using cached dataprep-0.4.3-py3-none-any.whl (9.5 MB)\n",
      "Requirement already satisfied: tqdm<5.0,>=4.48 in c:\\users\\akhil\\anaconda3\\lib\\site-packages (from dataprep) (4.59.0)\n",
      "Requirement already satisfied: flask<3,>=2 in c:\\users\\akhil\\anaconda3\\lib\\site-packages (from dataprep) (2.1.2)\n",
      "Requirement already satisfied: pydantic<2.0,>=1.6 in c:\\users\\akhil\\anaconda3\\lib\\site-packages (from dataprep) (1.9.0)\n",
      "Requirement already satisfied: varname<0.9.0,>=0.8.1 in c:\\users\\akhil\\anaconda3\\lib\\site-packages (from dataprep) (0.8.3)\n"
     ]
    },
    {
     "name": "stderr",
     "output_type": "stream",
     "text": [
      "  ERROR: Command errored out with exit status 1:\n",
      "   command: 'C:\\Users\\Akhil\\anaconda3\\python.exe' -u -c 'import sys, setuptools, tokenize; sys.argv[0] = '\"'\"'C:\\\\Users\\\\Akhil\\\\AppData\\\\Local\\\\Temp\\\\pip-install-5qgz14fa\\\\python-levenshtein_c32cf771ae3342128800c825bc6394eb\\\\setup.py'\"'\"'; __file__='\"'\"'C:\\\\Users\\\\Akhil\\\\AppData\\\\Local\\\\Temp\\\\pip-install-5qgz14fa\\\\python-levenshtein_c32cf771ae3342128800c825bc6394eb\\\\setup.py'\"'\"';f=getattr(tokenize, '\"'\"'open'\"'\"', open)(__file__);code=f.read().replace('\"'\"'\\r\\n'\"'\"', '\"'\"'\\n'\"'\"');f.close();exec(compile(code, __file__, '\"'\"'exec'\"'\"'))' bdist_wheel -d 'C:\\Users\\Akhil\\AppData\\Local\\Temp\\pip-wheel-c5evdnca'\n",
      "       cwd: C:\\Users\\Akhil\\AppData\\Local\\Temp\\pip-install-5qgz14fa\\python-levenshtein_c32cf771ae3342128800c825bc6394eb\\\n",
      "  Complete output (27 lines):\n",
      "  running bdist_wheel\n",
      "  running build\n",
      "  running build_py\n",
      "  creating build\n",
      "  creating build\\lib.win-amd64-3.8\n",
      "  creating build\\lib.win-amd64-3.8\\Levenshtein\n",
      "  copying Levenshtein\\StringMatcher.py -> build\\lib.win-amd64-3.8\\Levenshtein\n",
      "  copying Levenshtein\\__init__.py -> build\\lib.win-amd64-3.8\\Levenshtein\n",
      "  running egg_info\n",
      "  writing python_Levenshtein.egg-info\\PKG-INFO\n",
      "  writing dependency_links to python_Levenshtein.egg-info\\dependency_links.txt\n",
      "  writing entry points to python_Levenshtein.egg-info\\entry_points.txt\n",
      "  writing namespace_packages to python_Levenshtein.egg-info\\namespace_packages.txt\n",
      "  writing requirements to python_Levenshtein.egg-info\\requires.txt\n",
      "  writing top-level names to python_Levenshtein.egg-info\\top_level.txt\n",
      "  reading manifest file 'python_Levenshtein.egg-info\\SOURCES.txt'\n",
      "  reading manifest template 'MANIFEST.in'\n",
      "  warning: no previously-included files matching '*pyc' found anywhere in distribution\n",
      "  warning: no previously-included files matching '*so' found anywhere in distribution\n",
      "  warning: no previously-included files matching '.project' found anywhere in distribution\n",
      "  warning: no previously-included files matching '.pydevproject' found anywhere in distribution\n",
      "  writing manifest file 'python_Levenshtein.egg-info\\SOURCES.txt'\n",
      "  copying Levenshtein\\_levenshtein.c -> build\\lib.win-amd64-3.8\\Levenshtein\n",
      "  copying Levenshtein\\_levenshtein.h -> build\\lib.win-amd64-3.8\\Levenshtein\n",
      "  running build_ext\n",
      "  building 'Levenshtein._levenshtein' extension\n",
      "  error: Microsoft Visual C++ 14.0 or greater is required. Get it with \"Microsoft C++ Build Tools\": https://visualstudio.microsoft.com/visual-cpp-build-tools/\n",
      "  ----------------------------------------\n",
      "  ERROR: Failed building wheel for python-Levenshtein\n",
      "    ERROR: Command errored out with exit status 1:\n",
      "     command: 'C:\\Users\\Akhil\\anaconda3\\python.exe' -u -c 'import sys, setuptools, tokenize; sys.argv[0] = '\"'\"'C:\\\\Users\\\\Akhil\\\\AppData\\\\Local\\\\Temp\\\\pip-install-5qgz14fa\\\\python-levenshtein_c32cf771ae3342128800c825bc6394eb\\\\setup.py'\"'\"'; __file__='\"'\"'C:\\\\Users\\\\Akhil\\\\AppData\\\\Local\\\\Temp\\\\pip-install-5qgz14fa\\\\python-levenshtein_c32cf771ae3342128800c825bc6394eb\\\\setup.py'\"'\"';f=getattr(tokenize, '\"'\"'open'\"'\"', open)(__file__);code=f.read().replace('\"'\"'\\r\\n'\"'\"', '\"'\"'\\n'\"'\"');f.close();exec(compile(code, __file__, '\"'\"'exec'\"'\"'))' install --record 'C:\\Users\\Akhil\\AppData\\Local\\Temp\\pip-record-uolbw4_c\\install-record.txt' --single-version-externally-managed --compile --install-headers 'C:\\Users\\Akhil\\anaconda3\\Include\\python-Levenshtein'\n",
      "         cwd: C:\\Users\\Akhil\\AppData\\Local\\Temp\\pip-install-5qgz14fa\\python-levenshtein_c32cf771ae3342128800c825bc6394eb\\\n",
      "    Complete output (27 lines):\n",
      "    running install\n",
      "    running build\n",
      "    running build_py\n"
     ]
    },
    {
     "name": "stdout",
     "output_type": "stream",
     "text": [
      "Requirement already satisfied: wordcloud<2.0,>=1.8 in c:\\users\\akhil\\anaconda3\\lib\\site-packages (from dataprep) (1.8.1)\n",
      "Collecting python-Levenshtein<0.13.0,>=0.12.2\n",
      "  Using cached python-Levenshtein-0.12.2.tar.gz (50 kB)\n",
      "Collecting flask_cors<4.0.0,>=3.0.10\n",
      "  Using cached Flask_Cors-3.0.10-py2.py3-none-any.whl (14 kB)\n",
      "Requirement already satisfied: pandas<2.0,>=1.1 in c:\\users\\akhil\\anaconda3\\lib\\site-packages (from dataprep) (1.2.4)\n",
      "Requirement already satisfied: regex<2022.0.0,>=2021.8.3 in c:\\users\\akhil\\anaconda3\\lib\\site-packages (from dataprep) (2021.11.10)\n",
      "Collecting pystache<0.7.0,>=0.6.0\n",
      "  Using cached pystache-0.6.0-py3-none-any.whl\n",
      "Requirement already satisfied: scipy<=1.7.1 in c:\\users\\akhil\\anaconda3\\lib\\site-packages (from dataprep) (1.6.2)\n",
      "Collecting python-crfsuite<0.10.0,>=0.9.7\n",
      "  Using cached python_crfsuite-0.9.8-cp38-cp38-win_amd64.whl (152 kB)\n",
      "Collecting nltk<4.0.0,>=3.6.7\n",
      "  Using cached nltk-3.7-py3-none-any.whl (1.5 MB)\n",
      "Requirement already satisfied: dask[array,dataframe,delayed]<2022.0,>=2021.11 in c:\\users\\akhil\\anaconda3\\lib\\site-packages (from dataprep) (2021.12.0)\n",
      "Collecting metaphone<0.7,>=0.6\n",
      "  Using cached Metaphone-0.6-py3-none-any.whl\n",
      "Collecting aiohttp<4.0,>=3.6\n",
      "  Using cached aiohttp-3.8.1-cp38-cp38-win_amd64.whl (555 kB)\n",
      "Requirement already satisfied: sqlalchemy<2.0.0,>=1.4.32 in c:\\users\\akhil\\anaconda3\\lib\\site-packages (from dataprep) (1.4.36)\n",
      "Requirement already satisfied: bokeh<3,>=2 in c:\\users\\akhil\\anaconda3\\lib\\site-packages (from dataprep) (2.3.2)\n",
      "Requirement already satisfied: numpy<2.0,>=1.21 in c:\\users\\akhil\\anaconda3\\lib\\site-packages (from dataprep) (1.22.3)\n",
      "Requirement already satisfied: ipywidgets<8.0,>=7.5 in c:\\users\\akhil\\anaconda3\\lib\\site-packages (from dataprep) (7.6.3)\n",
      "Requirement already satisfied: jinja2<4,>=3 in c:\\users\\akhil\\anaconda3\\lib\\site-packages (from dataprep) (3.1.2)\n",
      "Requirement already satisfied: python-stdnum<2.0,>=1.16 in c:\\users\\akhil\\anaconda3\\lib\\site-packages (from dataprep) (1.17)\n",
      "Collecting jsonpath-ng<2.0,>=1.5\n",
      "  Using cached jsonpath_ng-1.5.3-py3-none-any.whl (29 kB)\n",
      "Requirement already satisfied: yarl<2.0,>=1.0 in c:\\users\\akhil\\anaconda3\\lib\\site-packages (from aiohttp<4.0,>=3.6->dataprep) (1.7.2)\n",
      "Requirement already satisfied: charset-normalizer<3.0,>=2.0 in c:\\users\\akhil\\anaconda3\\lib\\site-packages (from aiohttp<4.0,>=3.6->dataprep) (2.0.12)\n",
      "Requirement already satisfied: multidict<7.0,>=4.5 in c:\\users\\akhil\\anaconda3\\lib\\site-packages (from aiohttp<4.0,>=3.6->dataprep) (6.0.2)\n",
      "Requirement already satisfied: attrs>=17.3.0 in c:\\users\\akhil\\anaconda3\\lib\\site-packages (from aiohttp<4.0,>=3.6->dataprep) (20.3.0)\n",
      "Requirement already satisfied: async-timeout<5.0,>=4.0.0a3 in c:\\users\\akhil\\anaconda3\\lib\\site-packages (from aiohttp<4.0,>=3.6->dataprep) (4.0.2)\n",
      "Requirement already satisfied: frozenlist>=1.1.1 in c:\\users\\akhil\\anaconda3\\lib\\site-packages (from aiohttp<4.0,>=3.6->dataprep) (1.3.0)\n",
      "Requirement already satisfied: aiosignal>=1.1.2 in c:\\users\\akhil\\anaconda3\\lib\\site-packages (from aiohttp<4.0,>=3.6->dataprep) (1.2.0)\n",
      "Requirement already satisfied: python-dateutil>=2.1 in c:\\users\\akhil\\anaconda3\\lib\\site-packages (from bokeh<3,>=2->dataprep) (2.8.1)\n",
      "Requirement already satisfied: typing-extensions>=3.7.4 in c:\\users\\akhil\\anaconda3\\lib\\site-packages (from bokeh<3,>=2->dataprep) (3.7.4.3)\n",
      "Requirement already satisfied: tornado>=5.1 in c:\\users\\akhil\\anaconda3\\lib\\site-packages (from bokeh<3,>=2->dataprep) (6.1)\n",
      "Requirement already satisfied: PyYAML>=3.10 in c:\\users\\akhil\\anaconda3\\lib\\site-packages (from bokeh<3,>=2->dataprep) (5.4.1)\n",
      "Requirement already satisfied: packaging>=16.8 in c:\\users\\akhil\\anaconda3\\lib\\site-packages (from bokeh<3,>=2->dataprep) (20.9)\n",
      "Requirement already satisfied: pillow>=7.1.0 in c:\\users\\akhil\\anaconda3\\lib\\site-packages (from bokeh<3,>=2->dataprep) (8.2.0)\n",
      "Requirement already satisfied: cloudpickle>=1.1.1 in c:\\users\\akhil\\anaconda3\\lib\\site-packages (from dask[array,dataframe,delayed]<2022.0,>=2021.11->dataprep) (1.6.0)\n",
      "Requirement already satisfied: partd>=0.3.10 in c:\\users\\akhil\\anaconda3\\lib\\site-packages (from dask[array,dataframe,delayed]<2022.0,>=2021.11->dataprep) (1.2.0)\n",
      "Requirement already satisfied: fsspec>=0.6.0 in c:\\users\\akhil\\anaconda3\\lib\\site-packages (from dask[array,dataframe,delayed]<2022.0,>=2021.11->dataprep) (0.9.0)\n",
      "Requirement already satisfied: toolz>=0.8.2 in c:\\users\\akhil\\anaconda3\\lib\\site-packages (from dask[array,dataframe,delayed]<2022.0,>=2021.11->dataprep) (0.11.1)\n",
      "Requirement already satisfied: itsdangerous>=2.0 in c:\\users\\akhil\\anaconda3\\lib\\site-packages (from flask<3,>=2->dataprep) (2.1.2)\n",
      "Requirement already satisfied: importlib-metadata>=3.6.0 in c:\\users\\akhil\\anaconda3\\lib\\site-packages (from flask<3,>=2->dataprep) (3.10.0)\n",
      "Requirement already satisfied: click>=8.0 in c:\\users\\akhil\\anaconda3\\lib\\site-packages (from flask<3,>=2->dataprep) (8.1.3)\n",
      "Requirement already satisfied: Werkzeug>=2.0 in c:\\users\\akhil\\anaconda3\\lib\\site-packages (from flask<3,>=2->dataprep) (2.1.2)\n",
      "Requirement already satisfied: colorama in c:\\users\\akhil\\anaconda3\\lib\\site-packages (from click>=8.0->flask<3,>=2->dataprep) (0.4.4)\n",
      "Requirement already satisfied: Six in c:\\users\\akhil\\anaconda3\\lib\\site-packages (from flask_cors<4.0.0,>=3.0.10->dataprep) (1.15.0)\n",
      "Requirement already satisfied: zipp>=0.5 in c:\\users\\akhil\\anaconda3\\lib\\site-packages (from importlib-metadata>=3.6.0->flask<3,>=2->dataprep) (3.4.1)\n",
      "Requirement already satisfied: traitlets>=4.3.1 in c:\\users\\akhil\\anaconda3\\lib\\site-packages (from ipywidgets<8.0,>=7.5->dataprep) (5.0.5)\n",
      "Requirement already satisfied: nbformat>=4.2.0 in c:\\users\\akhil\\anaconda3\\lib\\site-packages (from ipywidgets<8.0,>=7.5->dataprep) (5.1.3)\n",
      "Requirement already satisfied: ipykernel>=4.5.1 in c:\\users\\akhil\\anaconda3\\lib\\site-packages (from ipywidgets<8.0,>=7.5->dataprep) (5.3.4)\n",
      "Requirement already satisfied: jupyterlab-widgets>=1.0.0 in c:\\users\\akhil\\anaconda3\\lib\\site-packages (from ipywidgets<8.0,>=7.5->dataprep) (1.0.0)\n",
      "Requirement already satisfied: widgetsnbextension~=3.5.0 in c:\\users\\akhil\\anaconda3\\lib\\site-packages (from ipywidgets<8.0,>=7.5->dataprep) (3.5.1)\n",
      "Requirement already satisfied: ipython>=4.0.0 in c:\\users\\akhil\\anaconda3\\lib\\site-packages (from ipywidgets<8.0,>=7.5->dataprep) (7.22.0)\n",
      "Requirement already satisfied: jupyter-client in c:\\users\\akhil\\anaconda3\\lib\\site-packages (from ipykernel>=4.5.1->ipywidgets<8.0,>=7.5->dataprep) (6.1.12)\n",
      "Requirement already satisfied: prompt-toolkit!=3.0.0,!=3.0.1,<3.1.0,>=2.0.0 in c:\\users\\akhil\\anaconda3\\lib\\site-packages (from ipython>=4.0.0->ipywidgets<8.0,>=7.5->dataprep) (3.0.17)\n",
      "Requirement already satisfied: setuptools>=18.5 in c:\\users\\akhil\\anaconda3\\lib\\site-packages (from ipython>=4.0.0->ipywidgets<8.0,>=7.5->dataprep) (52.0.0.post20210125)\n",
      "Requirement already satisfied: pickleshare in c:\\users\\akhil\\anaconda3\\lib\\site-packages (from ipython>=4.0.0->ipywidgets<8.0,>=7.5->dataprep) (0.7.5)\n",
      "Requirement already satisfied: backcall in c:\\users\\akhil\\anaconda3\\lib\\site-packages (from ipython>=4.0.0->ipywidgets<8.0,>=7.5->dataprep) (0.2.0)\n",
      "Requirement already satisfied: decorator in c:\\users\\akhil\\anaconda3\\lib\\site-packages (from ipython>=4.0.0->ipywidgets<8.0,>=7.5->dataprep) (5.0.6)\n",
      "Requirement already satisfied: jedi>=0.16 in c:\\users\\akhil\\anaconda3\\lib\\site-packages (from ipython>=4.0.0->ipywidgets<8.0,>=7.5->dataprep) (0.17.2)\n",
      "Requirement already satisfied: pygments in c:\\users\\akhil\\anaconda3\\lib\\site-packages (from ipython>=4.0.0->ipywidgets<8.0,>=7.5->dataprep) (2.8.1)\n",
      "Requirement already satisfied: parso<0.8.0,>=0.7.0 in c:\\users\\akhil\\anaconda3\\lib\\site-packages (from jedi>=0.16->ipython>=4.0.0->ipywidgets<8.0,>=7.5->dataprep) (0.7.0)\n",
      "Requirement already satisfied: MarkupSafe>=2.0 in c:\\users\\akhil\\anaconda3\\lib\\site-packages (from jinja2<4,>=3->dataprep) (2.0.1)\n",
      "Requirement already satisfied: ply in c:\\users\\akhil\\anaconda3\\lib\\site-packages (from jsonpath-ng<2.0,>=1.5->dataprep) (3.11)\n",
      "Requirement already satisfied: jupyter-core in c:\\users\\akhil\\anaconda3\\lib\\site-packages (from nbformat>=4.2.0->ipywidgets<8.0,>=7.5->dataprep) (4.7.1)\n",
      "Requirement already satisfied: ipython-genutils in c:\\users\\akhil\\anaconda3\\lib\\site-packages (from nbformat>=4.2.0->ipywidgets<8.0,>=7.5->dataprep) (0.2.0)\n",
      "Requirement already satisfied: jsonschema!=2.5.0,>=2.4 in c:\\users\\akhil\\anaconda3\\lib\\site-packages (from nbformat>=4.2.0->ipywidgets<8.0,>=7.5->dataprep) (3.2.0)\n",
      "Requirement already satisfied: pyrsistent>=0.14.0 in c:\\users\\akhil\\anaconda3\\lib\\site-packages (from jsonschema!=2.5.0,>=2.4->nbformat>=4.2.0->ipywidgets<8.0,>=7.5->dataprep) (0.17.3)\n",
      "Requirement already satisfied: joblib in c:\\users\\akhil\\anaconda3\\lib\\site-packages (from nltk<4.0.0,>=3.6.7->dataprep) (1.0.1)\n",
      "Requirement already satisfied: pyparsing>=2.0.2 in c:\\users\\akhil\\anaconda3\\lib\\site-packages (from packaging>=16.8->bokeh<3,>=2->dataprep) (2.4.7)\n",
      "Requirement already satisfied: pytz>=2017.3 in c:\\users\\akhil\\anaconda3\\lib\\site-packages (from pandas<2.0,>=1.1->dataprep) (2021.1)\n",
      "Requirement already satisfied: locket in c:\\users\\akhil\\anaconda3\\lib\\site-packages\\locket-0.2.1-py3.8.egg (from partd>=0.3.10->dask[array,dataframe,delayed]<2022.0,>=2021.11->dataprep) (0.2.1)\n",
      "Requirement already satisfied: wcwidth in c:\\users\\akhil\\anaconda3\\lib\\site-packages (from prompt-toolkit!=3.0.0,!=3.0.1,<3.1.0,>=2.0.0->ipython>=4.0.0->ipywidgets<8.0,>=7.5->dataprep) (0.2.5)\n",
      "Requirement already satisfied: greenlet!=0.4.17 in c:\\users\\akhil\\anaconda3\\lib\\site-packages (from sqlalchemy<2.0.0,>=1.4.32->dataprep) (1.0.0)\n",
      "Requirement already satisfied: executing<0.9.0,>=0.8.3 in c:\\users\\akhil\\anaconda3\\lib\\site-packages (from varname<0.9.0,>=0.8.1->dataprep) (0.8.3)\n",
      "Requirement already satisfied: asttokens<3.0.0,>=2.0.0 in c:\\users\\akhil\\anaconda3\\lib\\site-packages (from varname<0.9.0,>=0.8.1->dataprep) (2.0.5)\n",
      "Requirement already satisfied: pure_eval<1.0.0 in c:\\users\\akhil\\anaconda3\\lib\\site-packages (from varname<0.9.0,>=0.8.1->dataprep) (0.2.2)\n",
      "Requirement already satisfied: notebook>=4.4.1 in c:\\users\\akhil\\anaconda3\\lib\\site-packages (from widgetsnbextension~=3.5.0->ipywidgets<8.0,>=7.5->dataprep) (6.3.0)\n",
      "Requirement already satisfied: terminado>=0.8.3 in c:\\users\\akhil\\anaconda3\\lib\\site-packages (from notebook>=4.4.1->widgetsnbextension~=3.5.0->ipywidgets<8.0,>=7.5->dataprep) (0.9.4)\n",
      "Requirement already satisfied: prometheus-client in c:\\users\\akhil\\anaconda3\\lib\\site-packages (from notebook>=4.4.1->widgetsnbextension~=3.5.0->ipywidgets<8.0,>=7.5->dataprep) (0.10.1)\n",
      "Requirement already satisfied: argon2-cffi in c:\\users\\akhil\\anaconda3\\lib\\site-packages (from notebook>=4.4.1->widgetsnbextension~=3.5.0->ipywidgets<8.0,>=7.5->dataprep) (20.1.0)\n",
      "Requirement already satisfied: pyzmq>=17 in c:\\users\\akhil\\anaconda3\\lib\\site-packages (from notebook>=4.4.1->widgetsnbextension~=3.5.0->ipywidgets<8.0,>=7.5->dataprep) (20.0.0)\n",
      "Requirement already satisfied: nbconvert in c:\\users\\akhil\\anaconda3\\lib\\site-packages (from notebook>=4.4.1->widgetsnbextension~=3.5.0->ipywidgets<8.0,>=7.5->dataprep) (6.0.7)\n",
      "Requirement already satisfied: Send2Trash>=1.5.0 in c:\\users\\akhil\\anaconda3\\lib\\site-packages (from notebook>=4.4.1->widgetsnbextension~=3.5.0->ipywidgets<8.0,>=7.5->dataprep) (1.5.0)\n",
      "Requirement already satisfied: pywin32>=1.0 in c:\\users\\akhil\\anaconda3\\lib\\site-packages (from jupyter-core->nbformat>=4.2.0->ipywidgets<8.0,>=7.5->dataprep) (227)\n",
      "Requirement already satisfied: pywinpty>=0.5 in c:\\users\\akhil\\anaconda3\\lib\\site-packages (from terminado>=0.8.3->notebook>=4.4.1->widgetsnbextension~=3.5.0->ipywidgets<8.0,>=7.5->dataprep) (0.5.7)\n",
      "Requirement already satisfied: matplotlib in c:\\users\\akhil\\anaconda3\\lib\\site-packages (from wordcloud<2.0,>=1.8->dataprep) (3.3.4)\n",
      "Requirement already satisfied: idna>=2.0 in c:\\users\\akhil\\anaconda3\\lib\\site-packages (from yarl<2.0,>=1.0->aiohttp<4.0,>=3.6->dataprep) (2.10)\n",
      "Requirement already satisfied: cffi>=1.0.0 in c:\\users\\akhil\\anaconda3\\lib\\site-packages (from argon2-cffi->notebook>=4.4.1->widgetsnbextension~=3.5.0->ipywidgets<8.0,>=7.5->dataprep) (1.14.5)\n",
      "Requirement already satisfied: pycparser in c:\\users\\akhil\\anaconda3\\lib\\site-packages (from cffi>=1.0.0->argon2-cffi->notebook>=4.4.1->widgetsnbextension~=3.5.0->ipywidgets<8.0,>=7.5->dataprep) (2.20)\n",
      "Requirement already satisfied: cycler>=0.10 in c:\\users\\akhil\\anaconda3\\lib\\site-packages (from matplotlib->wordcloud<2.0,>=1.8->dataprep) (0.10.0)\n",
      "Requirement already satisfied: kiwisolver>=1.0.1 in c:\\users\\akhil\\anaconda3\\lib\\site-packages (from matplotlib->wordcloud<2.0,>=1.8->dataprep) (1.3.1)\n",
      "Requirement already satisfied: testpath in c:\\users\\akhil\\anaconda3\\lib\\site-packages (from nbconvert->notebook>=4.4.1->widgetsnbextension~=3.5.0->ipywidgets<8.0,>=7.5->dataprep) (0.4.4)\n",
      "Requirement already satisfied: entrypoints>=0.2.2 in c:\\users\\akhil\\anaconda3\\lib\\site-packages (from nbconvert->notebook>=4.4.1->widgetsnbextension~=3.5.0->ipywidgets<8.0,>=7.5->dataprep) (0.3)\n",
      "Requirement already satisfied: defusedxml in c:\\users\\akhil\\anaconda3\\lib\\site-packages (from nbconvert->notebook>=4.4.1->widgetsnbextension~=3.5.0->ipywidgets<8.0,>=7.5->dataprep) (0.7.1)\n",
      "Requirement already satisfied: nbclient<0.6.0,>=0.5.0 in c:\\users\\akhil\\anaconda3\\lib\\site-packages (from nbconvert->notebook>=4.4.1->widgetsnbextension~=3.5.0->ipywidgets<8.0,>=7.5->dataprep) (0.5.3)\n",
      "Requirement already satisfied: pandocfilters>=1.4.1 in c:\\users\\akhil\\anaconda3\\lib\\site-packages (from nbconvert->notebook>=4.4.1->widgetsnbextension~=3.5.0->ipywidgets<8.0,>=7.5->dataprep) (1.4.3)\n",
      "Requirement already satisfied: mistune<2,>=0.8.1 in c:\\users\\akhil\\anaconda3\\lib\\site-packages (from nbconvert->notebook>=4.4.1->widgetsnbextension~=3.5.0->ipywidgets<8.0,>=7.5->dataprep) (0.8.4)\n",
      "Requirement already satisfied: jupyterlab-pygments in c:\\users\\akhil\\anaconda3\\lib\\site-packages (from nbconvert->notebook>=4.4.1->widgetsnbextension~=3.5.0->ipywidgets<8.0,>=7.5->dataprep) (0.1.2)\n",
      "Requirement already satisfied: bleach in c:\\users\\akhil\\anaconda3\\lib\\site-packages (from nbconvert->notebook>=4.4.1->widgetsnbextension~=3.5.0->ipywidgets<8.0,>=7.5->dataprep) (3.3.0)\n",
      "Requirement already satisfied: async-generator in c:\\users\\akhil\\anaconda3\\lib\\site-packages (from nbclient<0.6.0,>=0.5.0->nbconvert->notebook>=4.4.1->widgetsnbextension~=3.5.0->ipywidgets<8.0,>=7.5->dataprep) (1.10)\n",
      "Requirement already satisfied: nest-asyncio in c:\\users\\akhil\\anaconda3\\lib\\site-packages (from nbclient<0.6.0,>=0.5.0->nbconvert->notebook>=4.4.1->widgetsnbextension~=3.5.0->ipywidgets<8.0,>=7.5->dataprep) (1.5.1)\n",
      "Requirement already satisfied: webencodings in c:\\users\\akhil\\anaconda3\\lib\\site-packages (from bleach->nbconvert->notebook>=4.4.1->widgetsnbextension~=3.5.0->ipywidgets<8.0,>=7.5->dataprep) (0.5.1)\n",
      "Building wheels for collected packages: python-Levenshtein\n",
      "  Building wheel for python-Levenshtein (setup.py): started\n",
      "  Building wheel for python-Levenshtein (setup.py): finished with status 'error'\n",
      "  Running setup.py clean for python-Levenshtein\n",
      "Failed to build python-Levenshtein\n",
      "Installing collected packages: python-Levenshtein, python-crfsuite, pystache, nltk, metaphone, jsonpath-ng, flask-cors, aiohttp, dataprep\n",
      "    Running setup.py install for python-Levenshtein: started\n",
      "    Running setup.py install for python-Levenshtein: finished with status 'error'\n"
     ]
    },
    {
     "name": "stderr",
     "output_type": "stream",
     "text": [
      "    creating build\n",
      "    creating build\\lib.win-amd64-3.8\n",
      "    creating build\\lib.win-amd64-3.8\\Levenshtein\n",
      "    copying Levenshtein\\StringMatcher.py -> build\\lib.win-amd64-3.8\\Levenshtein\n",
      "    copying Levenshtein\\__init__.py -> build\\lib.win-amd64-3.8\\Levenshtein\n",
      "    running egg_info\n",
      "    writing python_Levenshtein.egg-info\\PKG-INFO\n",
      "    writing dependency_links to python_Levenshtein.egg-info\\dependency_links.txt\n",
      "    writing entry points to python_Levenshtein.egg-info\\entry_points.txt\n",
      "    writing namespace_packages to python_Levenshtein.egg-info\\namespace_packages.txt\n",
      "    writing requirements to python_Levenshtein.egg-info\\requires.txt\n",
      "    writing top-level names to python_Levenshtein.egg-info\\top_level.txt\n",
      "    reading manifest file 'python_Levenshtein.egg-info\\SOURCES.txt'\n",
      "    reading manifest template 'MANIFEST.in'\n",
      "    warning: no previously-included files matching '*pyc' found anywhere in distribution\n",
      "    warning: no previously-included files matching '*so' found anywhere in distribution\n",
      "    warning: no previously-included files matching '.project' found anywhere in distribution\n",
      "    warning: no previously-included files matching '.pydevproject' found anywhere in distribution\n",
      "    writing manifest file 'python_Levenshtein.egg-info\\SOURCES.txt'\n",
      "    copying Levenshtein\\_levenshtein.c -> build\\lib.win-amd64-3.8\\Levenshtein\n",
      "    copying Levenshtein\\_levenshtein.h -> build\\lib.win-amd64-3.8\\Levenshtein\n",
      "    running build_ext\n",
      "    building 'Levenshtein._levenshtein' extension\n",
      "    error: Microsoft Visual C++ 14.0 or greater is required. Get it with \"Microsoft C++ Build Tools\": https://visualstudio.microsoft.com/visual-cpp-build-tools/\n",
      "    ----------------------------------------\n",
      "ERROR: Command errored out with exit status 1: 'C:\\Users\\Akhil\\anaconda3\\python.exe' -u -c 'import sys, setuptools, tokenize; sys.argv[0] = '\"'\"'C:\\\\Users\\\\Akhil\\\\AppData\\\\Local\\\\Temp\\\\pip-install-5qgz14fa\\\\python-levenshtein_c32cf771ae3342128800c825bc6394eb\\\\setup.py'\"'\"'; __file__='\"'\"'C:\\\\Users\\\\Akhil\\\\AppData\\\\Local\\\\Temp\\\\pip-install-5qgz14fa\\\\python-levenshtein_c32cf771ae3342128800c825bc6394eb\\\\setup.py'\"'\"';f=getattr(tokenize, '\"'\"'open'\"'\"', open)(__file__);code=f.read().replace('\"'\"'\\r\\n'\"'\"', '\"'\"'\\n'\"'\"');f.close();exec(compile(code, __file__, '\"'\"'exec'\"'\"'))' install --record 'C:\\Users\\Akhil\\AppData\\Local\\Temp\\pip-record-uolbw4_c\\install-record.txt' --single-version-externally-managed --compile --install-headers 'C:\\Users\\Akhil\\anaconda3\\Include\\python-Levenshtein' Check the logs for full command output.\n"
     ]
    }
   ],
   "source": [
    "!pip install dataprep"
   ]
  },
  {
   "cell_type": "code",
   "execution_count": 19,
   "id": "1ec750ed",
   "metadata": {},
   "outputs": [
    {
     "ename": "ModuleNotFoundError",
     "evalue": "No module named 'dataprep'",
     "output_type": "error",
     "traceback": [
      "\u001b[1;31m---------------------------------------------------------------------------\u001b[0m",
      "\u001b[1;31mModuleNotFoundError\u001b[0m                       Traceback (most recent call last)",
      "\u001b[1;32m<ipython-input-19-db62224f8a79>\u001b[0m in \u001b[0;36m<module>\u001b[1;34m\u001b[0m\n\u001b[1;32m----> 1\u001b[1;33m \u001b[1;32mfrom\u001b[0m \u001b[0mdataprep\u001b[0m\u001b[1;33m.\u001b[0m\u001b[0meda\u001b[0m \u001b[1;32mimport\u001b[0m \u001b[0mcreate_report\u001b[0m\u001b[1;33m\u001b[0m\u001b[1;33m\u001b[0m\u001b[0m\n\u001b[0m",
      "\u001b[1;31mModuleNotFoundError\u001b[0m: No module named 'dataprep'"
     ]
    }
   ],
   "source": [
    "from dataprep.eda import create_report"
   ]
  },
  {
   "cell_type": "code",
   "execution_count": null,
   "id": "332573d9",
   "metadata": {},
   "outputs": [],
   "source": []
  }
 ],
 "metadata": {
  "kernelspec": {
   "display_name": "Python 3",
   "language": "python",
   "name": "python3"
  },
  "language_info": {
   "codemirror_mode": {
    "name": "ipython",
    "version": 3
   },
   "file_extension": ".py",
   "mimetype": "text/x-python",
   "name": "python",
   "nbconvert_exporter": "python",
   "pygments_lexer": "ipython3",
   "version": "3.8.8"
  }
 },
 "nbformat": 4,
 "nbformat_minor": 5
}
