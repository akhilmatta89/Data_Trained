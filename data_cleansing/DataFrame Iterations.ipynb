{
 "cells": [
  {
   "cell_type": "raw",
   "id": "3522ac50",
   "metadata": {},
   "source": [
    "iteration on a dataframe can be done in 2 ways\n",
    "Row Iteration => three predefined functions which can be used as :\n",
    "        iterrows()\n",
    "        iteritems()\n",
    "        itertuples()\n",
    "Column Iteration\n",
    "    First Create a list of dataframe columns and then\n",
    "    iterating it through it to see dataframe columns\n",
    "        "
   ]
  },
  {
   "cell_type": "code",
   "execution_count": 1,
   "id": "92f3d52e",
   "metadata": {},
   "outputs": [],
   "source": [
    "import pandas as pd\n",
    "import numpy as np"
   ]
  },
  {
   "cell_type": "code",
   "execution_count": 3,
   "id": "bc710ea8",
   "metadata": {},
   "outputs": [
    {
     "name": "stdout",
     "output_type": "stream",
     "text": [
      "Empty DataFrame\n",
      "Columns: []\n",
      "Index: []\n"
     ]
    }
   ],
   "source": [
    "dataframe = pd.DataFrame()\n",
    "print(dataframe)"
   ]
  },
  {
   "cell_type": "markdown",
   "id": "ce176b91",
   "metadata": {},
   "source": [
    "# Rows Iteration"
   ]
  },
  {
   "cell_type": "code",
   "execution_count": 4,
   "id": "4b5612ae",
   "metadata": {},
   "outputs": [
    {
     "data": {
      "text/html": [
       "<div>\n",
       "<style scoped>\n",
       "    .dataframe tbody tr th:only-of-type {\n",
       "        vertical-align: middle;\n",
       "    }\n",
       "\n",
       "    .dataframe tbody tr th {\n",
       "        vertical-align: top;\n",
       "    }\n",
       "\n",
       "    .dataframe thead th {\n",
       "        text-align: right;\n",
       "    }\n",
       "</style>\n",
       "<table border=\"1\" class=\"dataframe\">\n",
       "  <thead>\n",
       "    <tr style=\"text-align: right;\">\n",
       "      <th></th>\n",
       "      <th>Name</th>\n",
       "      <th>Age</th>\n",
       "    </tr>\n",
       "  </thead>\n",
       "  <tbody>\n",
       "    <tr>\n",
       "      <th>0</th>\n",
       "      <td>Mukesh</td>\n",
       "      <td>10</td>\n",
       "    </tr>\n",
       "    <tr>\n",
       "      <th>1</th>\n",
       "      <td>Rahul</td>\n",
       "      <td>12</td>\n",
       "    </tr>\n",
       "    <tr>\n",
       "      <th>2</th>\n",
       "      <td>Akash</td>\n",
       "      <td>13</td>\n",
       "    </tr>\n",
       "  </tbody>\n",
       "</table>\n",
       "</div>"
      ],
      "text/plain": [
       "     Name  Age\n",
       "0  Mukesh   10\n",
       "1   Rahul   12\n",
       "2   Akash   13"
      ]
     },
     "execution_count": 4,
     "metadata": {},
     "output_type": "execute_result"
    }
   ],
   "source": [
    "data = [['Mukesh',10],['Rahul',12],['Akash',13]]\n",
    "dataframe = pd.DataFrame(data=data,columns=['Name','Age'])\n",
    "dataframe"
   ]
  },
  {
   "cell_type": "code",
   "execution_count": 5,
   "id": "90f56f4f",
   "metadata": {},
   "outputs": [
    {
     "data": {
      "text/html": [
       "<div>\n",
       "<style scoped>\n",
       "    .dataframe tbody tr th:only-of-type {\n",
       "        vertical-align: middle;\n",
       "    }\n",
       "\n",
       "    .dataframe tbody tr th {\n",
       "        vertical-align: top;\n",
       "    }\n",
       "\n",
       "    .dataframe thead th {\n",
       "        text-align: right;\n",
       "    }\n",
       "</style>\n",
       "<table border=\"1\" class=\"dataframe\">\n",
       "  <thead>\n",
       "    <tr style=\"text-align: right;\">\n",
       "      <th></th>\n",
       "      <th>Name</th>\n",
       "      <th>Age</th>\n",
       "    </tr>\n",
       "  </thead>\n",
       "  <tbody>\n",
       "    <tr>\n",
       "      <th>0</th>\n",
       "      <td>Mukesh</td>\n",
       "      <td>10.0</td>\n",
       "    </tr>\n",
       "    <tr>\n",
       "      <th>1</th>\n",
       "      <td>Rahul</td>\n",
       "      <td>12.0</td>\n",
       "    </tr>\n",
       "    <tr>\n",
       "      <th>2</th>\n",
       "      <td>Akash</td>\n",
       "      <td>13.0</td>\n",
       "    </tr>\n",
       "  </tbody>\n",
       "</table>\n",
       "</div>"
      ],
      "text/plain": [
       "     Name   Age\n",
       "0  Mukesh  10.0\n",
       "1   Rahul  12.0\n",
       "2   Akash  13.0"
      ]
     },
     "execution_count": 5,
     "metadata": {},
     "output_type": "execute_result"
    }
   ],
   "source": [
    "data = [['Mukesh',10],['Rahul',12],['Akash',13]]\n",
    "dataframe = pd.DataFrame(data=data,columns=['Name','Age'],dtype=float)\n",
    "dataframe"
   ]
  },
  {
   "cell_type": "code",
   "execution_count": 6,
   "id": "f33b1c28",
   "metadata": {},
   "outputs": [
    {
     "data": {
      "text/html": [
       "<div>\n",
       "<style scoped>\n",
       "    .dataframe tbody tr th:only-of-type {\n",
       "        vertical-align: middle;\n",
       "    }\n",
       "\n",
       "    .dataframe tbody tr th {\n",
       "        vertical-align: top;\n",
       "    }\n",
       "\n",
       "    .dataframe thead th {\n",
       "        text-align: right;\n",
       "    }\n",
       "</style>\n",
       "<table border=\"1\" class=\"dataframe\">\n",
       "  <thead>\n",
       "    <tr style=\"text-align: right;\">\n",
       "      <th></th>\n",
       "      <th>Name</th>\n",
       "      <th>Age</th>\n",
       "    </tr>\n",
       "  </thead>\n",
       "  <tbody>\n",
       "    <tr>\n",
       "      <th>1</th>\n",
       "      <td>Mukesh</td>\n",
       "      <td>10.0</td>\n",
       "    </tr>\n",
       "    <tr>\n",
       "      <th>2</th>\n",
       "      <td>Rahul</td>\n",
       "      <td>12.0</td>\n",
       "    </tr>\n",
       "    <tr>\n",
       "      <th>3</th>\n",
       "      <td>Akash</td>\n",
       "      <td>13.0</td>\n",
       "    </tr>\n",
       "  </tbody>\n",
       "</table>\n",
       "</div>"
      ],
      "text/plain": [
       "     Name   Age\n",
       "1  Mukesh  10.0\n",
       "2   Rahul  12.0\n",
       "3   Akash  13.0"
      ]
     },
     "execution_count": 6,
     "metadata": {},
     "output_type": "execute_result"
    }
   ],
   "source": [
    "data = [['Mukesh',10],['Rahul',12],['Akash',13]]\n",
    "dataframe = pd.DataFrame(data=data,columns=['Name','Age'],dtype=float,index=[1,2,3])\n",
    "dataframe"
   ]
  },
  {
   "cell_type": "code",
   "execution_count": 7,
   "id": "97ed1daf",
   "metadata": {},
   "outputs": [],
   "source": [
    "dict_ = {'name': ['mukesh','Rahul','Akash','Ohm'],\n",
    "        'total_marks':[80,40,60,90],\n",
    "        'age':[22,24,21,28],\n",
    "        'team':['A','B','C','D'],\n",
    "        'college':['XZ','ZZ','ZX','XZX']}"
   ]
  },
  {
   "cell_type": "code",
   "execution_count": 8,
   "id": "fcc4e7b7",
   "metadata": {},
   "outputs": [
    {
     "data": {
      "text/html": [
       "<div>\n",
       "<style scoped>\n",
       "    .dataframe tbody tr th:only-of-type {\n",
       "        vertical-align: middle;\n",
       "    }\n",
       "\n",
       "    .dataframe tbody tr th {\n",
       "        vertical-align: top;\n",
       "    }\n",
       "\n",
       "    .dataframe thead th {\n",
       "        text-align: right;\n",
       "    }\n",
       "</style>\n",
       "<table border=\"1\" class=\"dataframe\">\n",
       "  <thead>\n",
       "    <tr style=\"text-align: right;\">\n",
       "      <th></th>\n",
       "      <th>name</th>\n",
       "      <th>total_marks</th>\n",
       "      <th>age</th>\n",
       "      <th>team</th>\n",
       "      <th>college</th>\n",
       "    </tr>\n",
       "  </thead>\n",
       "  <tbody>\n",
       "    <tr>\n",
       "      <th>0</th>\n",
       "      <td>mukesh</td>\n",
       "      <td>80</td>\n",
       "      <td>22</td>\n",
       "      <td>A</td>\n",
       "      <td>XZ</td>\n",
       "    </tr>\n",
       "    <tr>\n",
       "      <th>1</th>\n",
       "      <td>Rahul</td>\n",
       "      <td>40</td>\n",
       "      <td>24</td>\n",
       "      <td>B</td>\n",
       "      <td>ZZ</td>\n",
       "    </tr>\n",
       "    <tr>\n",
       "      <th>2</th>\n",
       "      <td>Akash</td>\n",
       "      <td>60</td>\n",
       "      <td>21</td>\n",
       "      <td>C</td>\n",
       "      <td>ZX</td>\n",
       "    </tr>\n",
       "    <tr>\n",
       "      <th>3</th>\n",
       "      <td>Ohm</td>\n",
       "      <td>90</td>\n",
       "      <td>28</td>\n",
       "      <td>D</td>\n",
       "      <td>XZX</td>\n",
       "    </tr>\n",
       "  </tbody>\n",
       "</table>\n",
       "</div>"
      ],
      "text/plain": [
       "     name  total_marks  age team college\n",
       "0  mukesh           80   22    A      XZ\n",
       "1   Rahul           40   24    B      ZZ\n",
       "2   Akash           60   21    C      ZX\n",
       "3     Ohm           90   28    D     XZX"
      ]
     },
     "execution_count": 8,
     "metadata": {},
     "output_type": "execute_result"
    }
   ],
   "source": [
    "dataframe = pd.DataFrame(dict_)\n",
    "dataframe"
   ]
  },
  {
   "cell_type": "code",
   "execution_count": 9,
   "id": "bf11d49f",
   "metadata": {},
   "outputs": [
    {
     "name": "stdout",
     "output_type": "stream",
     "text": [
      "mukesh 22\n",
      "Rahul 24\n",
      "Akash 21\n",
      "Ohm 28\n"
     ]
    }
   ],
   "source": [
    "#accessing rows usingindex\n",
    "for index in dataframe.index:\n",
    "    print(dataframe['name'][index], dataframe['age'][index])"
   ]
  },
  {
   "cell_type": "code",
   "execution_count": 10,
   "id": "54bc58f3",
   "metadata": {},
   "outputs": [
    {
     "data": {
      "text/plain": [
       "0    mukesh\n",
       "1     Rahul\n",
       "2     Akash\n",
       "3       Ohm\n",
       "Name: name, dtype: object"
      ]
     },
     "execution_count": 10,
     "metadata": {},
     "output_type": "execute_result"
    }
   ],
   "source": [
    "dataframe['name']"
   ]
  },
  {
   "cell_type": "code",
   "execution_count": 11,
   "id": "8af12a2a",
   "metadata": {},
   "outputs": [
    {
     "data": {
      "text/plain": [
       "0    22\n",
       "1    24\n",
       "2    21\n",
       "3    28\n",
       "Name: age, dtype: int64"
      ]
     },
     "execution_count": 11,
     "metadata": {},
     "output_type": "execute_result"
    }
   ],
   "source": [
    "dataframe['age']"
   ]
  },
  {
   "cell_type": "code",
   "execution_count": 12,
   "id": "8fad871f",
   "metadata": {},
   "outputs": [
    {
     "name": "stdout",
     "output_type": "stream",
     "text": [
      "mukesh 22\n",
      "Rahul 24\n",
      "Akash 21\n",
      "Ohm 28\n"
     ]
    }
   ],
   "source": [
    "# assesing rows using loc\n",
    "for index in range(len(dataframe)):\n",
    "    print(dataframe.loc[index,'name'],dataframe.loc[index,'age'])"
   ]
  },
  {
   "cell_type": "code",
   "execution_count": 13,
   "id": "5b8a4d46",
   "metadata": {},
   "outputs": [
    {
     "name": "stdout",
     "output_type": "stream",
     "text": [
      "mukesh 80\n",
      "Rahul 40\n",
      "Akash 60\n",
      "Ohm 90\n"
     ]
    }
   ],
   "source": [
    "# assesing rows using iloc\n",
    "for index in range(len(dataframe)):\n",
    "    print(dataframe.iloc[index,0],dataframe.iloc[index,1])"
   ]
  },
  {
   "cell_type": "markdown",
   "id": "2f336a18",
   "metadata": {},
   "source": [
    "# apply() method"
   ]
  },
  {
   "cell_type": "code",
   "execution_count": 15,
   "id": "4e47f251",
   "metadata": {},
   "outputs": [
    {
     "data": {
      "text/plain": [
       "0    mukesh 22\n",
       "1     Rahul 24\n",
       "2     Akash 21\n",
       "3       Ohm 28\n",
       "dtype: object"
      ]
     },
     "execution_count": 15,
     "metadata": {},
     "output_type": "execute_result"
    }
   ],
   "source": [
    "dataframe.apply(lambda row: row['name'] + \" \"+ str(row['age']),axis=1)"
   ]
  },
  {
   "cell_type": "code",
   "execution_count": 16,
   "id": "96965026",
   "metadata": {},
   "outputs": [
    {
     "data": {
      "text/html": [
       "<div>\n",
       "<style scoped>\n",
       "    .dataframe tbody tr th:only-of-type {\n",
       "        vertical-align: middle;\n",
       "    }\n",
       "\n",
       "    .dataframe tbody tr th {\n",
       "        vertical-align: top;\n",
       "    }\n",
       "\n",
       "    .dataframe thead th {\n",
       "        text-align: right;\n",
       "    }\n",
       "</style>\n",
       "<table border=\"1\" class=\"dataframe\">\n",
       "  <thead>\n",
       "    <tr style=\"text-align: right;\">\n",
       "      <th></th>\n",
       "      <th>name</th>\n",
       "      <th>total_marks</th>\n",
       "      <th>age</th>\n",
       "      <th>team</th>\n",
       "      <th>college</th>\n",
       "    </tr>\n",
       "  </thead>\n",
       "  <tbody>\n",
       "    <tr>\n",
       "      <th>0</th>\n",
       "      <td>mukesh</td>\n",
       "      <td>80</td>\n",
       "      <td>22</td>\n",
       "      <td>A</td>\n",
       "      <td>XZ</td>\n",
       "    </tr>\n",
       "    <tr>\n",
       "      <th>1</th>\n",
       "      <td>Rahul</td>\n",
       "      <td>40</td>\n",
       "      <td>24</td>\n",
       "      <td>B</td>\n",
       "      <td>ZZ</td>\n",
       "    </tr>\n",
       "    <tr>\n",
       "      <th>2</th>\n",
       "      <td>Akash</td>\n",
       "      <td>60</td>\n",
       "      <td>21</td>\n",
       "      <td>C</td>\n",
       "      <td>ZX</td>\n",
       "    </tr>\n",
       "    <tr>\n",
       "      <th>3</th>\n",
       "      <td>Ohm</td>\n",
       "      <td>90</td>\n",
       "      <td>28</td>\n",
       "      <td>D</td>\n",
       "      <td>XZX</td>\n",
       "    </tr>\n",
       "  </tbody>\n",
       "</table>\n",
       "</div>"
      ],
      "text/plain": [
       "     name  total_marks  age team college\n",
       "0  mukesh           80   22    A      XZ\n",
       "1   Rahul           40   24    B      ZZ\n",
       "2   Akash           60   21    C      ZX\n",
       "3     Ohm           90   28    D     XZX"
      ]
     },
     "execution_count": 16,
     "metadata": {},
     "output_type": "execute_result"
    }
   ],
   "source": [
    "dataframe"
   ]
  },
  {
   "cell_type": "code",
   "execution_count": 17,
   "id": "0b56d236",
   "metadata": {},
   "outputs": [
    {
     "name": "stdout",
     "output_type": "stream",
     "text": [
      "0 \n",
      " name           mukesh\n",
      "total_marks        80\n",
      "age                22\n",
      "team                A\n",
      "college            XZ\n",
      "Name: 0, dtype: object \n",
      " ******************************\n",
      "1 \n",
      " name           Rahul\n",
      "total_marks       40\n",
      "age               24\n",
      "team               B\n",
      "college           ZZ\n",
      "Name: 1, dtype: object \n",
      " ******************************\n",
      "2 \n",
      " name           Akash\n",
      "total_marks       60\n",
      "age               21\n",
      "team               C\n",
      "college           ZX\n",
      "Name: 2, dtype: object \n",
      " ******************************\n",
      "3 \n",
      " name           Ohm\n",
      "total_marks     90\n",
      "age             28\n",
      "team             D\n",
      "college        XZX\n",
      "Name: 3, dtype: object \n",
      " ******************************\n"
     ]
    }
   ],
   "source": [
    "#iteration over rows\n",
    "for index_or_row,data_at_index_or_row in dataframe.iterrows():\n",
    "    print(index_or_row,'\\n',data_at_index_or_row,'\\n','***'*10)"
   ]
  },
  {
   "cell_type": "code",
   "execution_count": 19,
   "id": "5a2f2417",
   "metadata": {},
   "outputs": [
    {
     "name": "stdout",
     "output_type": "stream",
     "text": [
      "name\n",
      "total_marks\n",
      "age\n",
      "team\n",
      "college\n"
     ]
    }
   ],
   "source": [
    "for column_name,column_data in dataframe.iteritems():\n",
    "    print(column_name)"
   ]
  },
  {
   "cell_type": "code",
   "execution_count": 20,
   "id": "241b515e",
   "metadata": {},
   "outputs": [
    {
     "name": "stdout",
     "output_type": "stream",
     "text": [
      "0    mukesh\n",
      "1     Rahul\n",
      "2     Akash\n",
      "3       Ohm\n",
      "Name: name, dtype: object\n",
      "0    80\n",
      "1    40\n",
      "2    60\n",
      "3    90\n",
      "Name: total_marks, dtype: int64\n",
      "0    22\n",
      "1    24\n",
      "2    21\n",
      "3    28\n",
      "Name: age, dtype: int64\n",
      "0    A\n",
      "1    B\n",
      "2    C\n",
      "3    D\n",
      "Name: team, dtype: object\n",
      "0     XZ\n",
      "1     ZZ\n",
      "2     ZX\n",
      "3    XZX\n",
      "Name: college, dtype: object\n"
     ]
    }
   ],
   "source": [
    "for column_name,column_data in dataframe.iteritems():\n",
    "    print(column_data)"
   ]
  },
  {
   "cell_type": "code",
   "execution_count": 21,
   "id": "35cdcecb",
   "metadata": {},
   "outputs": [
    {
     "name": "stdout",
     "output_type": "stream",
     "text": [
      "Pandas(Index=0, name='mukesh', total_marks=80, age=22, team='A', college='XZ')\n",
      "Pandas(Index=1, name='Rahul', total_marks=40, age=24, team='B', college='ZZ')\n",
      "Pandas(Index=2, name='Akash', total_marks=60, age=21, team='C', college='ZX')\n",
      "Pandas(Index=3, name='Ohm', total_marks=90, age=28, team='D', college='XZX')\n"
     ]
    }
   ],
   "source": [
    "for i in dataframe.itertuples():\n",
    "    print(i)"
   ]
  },
  {
   "cell_type": "markdown",
   "id": "e7dc143b",
   "metadata": {},
   "source": [
    "# column Iteration"
   ]
  },
  {
   "cell_type": "raw",
   "id": "7fabd916",
   "metadata": {},
   "source": [
    "concept is :\n",
    "    create a list of dataframe columns => all columns list\n",
    "    then iterating through that list to pull out dataframe columns"
   ]
  },
  {
   "cell_type": "code",
   "execution_count": 22,
   "id": "3b0e3ce2",
   "metadata": {},
   "outputs": [
    {
     "data": {
      "text/plain": [
       "['name', 'total_marks', 'age', 'team', 'college']"
      ]
     },
     "execution_count": 22,
     "metadata": {},
     "output_type": "execute_result"
    }
   ],
   "source": [
    "columns_name_list = list(dataframe)\n",
    "columns_name_list"
   ]
  },
  {
   "cell_type": "code",
   "execution_count": 23,
   "id": "871776a5",
   "metadata": {},
   "outputs": [
    {
     "name": "stdout",
     "output_type": "stream",
     "text": [
      "0    mukesh\n",
      "1     Rahul\n",
      "2     Akash\n",
      "3       Ohm\n",
      "Name: name, dtype: object\n",
      "0    80\n",
      "1    40\n",
      "2    60\n",
      "3    90\n",
      "Name: total_marks, dtype: int64\n",
      "0    22\n",
      "1    24\n",
      "2    21\n",
      "3    28\n",
      "Name: age, dtype: int64\n",
      "0    A\n",
      "1    B\n",
      "2    C\n",
      "3    D\n",
      "Name: team, dtype: object\n",
      "0     XZ\n",
      "1     ZZ\n",
      "2     ZX\n",
      "3    XZX\n",
      "Name: college, dtype: object\n"
     ]
    }
   ],
   "source": [
    "for column_name in columns_name_list:\n",
    "    print(dataframe[column_name])"
   ]
  },
  {
   "cell_type": "code",
   "execution_count": 24,
   "id": "e7a8a028",
   "metadata": {},
   "outputs": [
    {
     "name": "stdout",
     "output_type": "stream",
     "text": [
      "Akash\n",
      "60\n",
      "21\n",
      "C\n",
      "ZX\n"
     ]
    }
   ],
   "source": [
    "for column_name in columns_name_list:\n",
    "    print(dataframe[column_name][2])"
   ]
  },
  {
   "cell_type": "code",
   "execution_count": null,
   "id": "12823bb6",
   "metadata": {},
   "outputs": [],
   "source": []
  }
 ],
 "metadata": {
  "kernelspec": {
   "display_name": "Python 3",
   "language": "python",
   "name": "python3"
  },
  "language_info": {
   "codemirror_mode": {
    "name": "ipython",
    "version": 3
   },
   "file_extension": ".py",
   "mimetype": "text/x-python",
   "name": "python",
   "nbconvert_exporter": "python",
   "pygments_lexer": "ipython3",
   "version": "3.8.8"
  }
 },
 "nbformat": 4,
 "nbformat_minor": 5
}
