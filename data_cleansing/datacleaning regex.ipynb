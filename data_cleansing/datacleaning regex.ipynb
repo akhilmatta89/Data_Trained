{
 "cells": [
  {
   "cell_type": "code",
   "execution_count": 3,
   "id": "76f6a8b3",
   "metadata": {},
   "outputs": [],
   "source": [
    "import re"
   ]
  },
  {
   "cell_type": "code",
   "execution_count": 8,
   "id": "4723ba8b",
   "metadata": {},
   "outputs": [
    {
     "name": "stdout",
     "output_type": "stream",
     "text": [
      "['1', '0', '8', '9', '8', '1', '1', '0', '2', '1', '0', '3', '1', '0', '4'] ['108981', '102', '103', '104']\n"
     ]
    }
   ],
   "source": [
    "#findall returns all the matches in the string\n",
    "xstring = '108981:python 102:is 103:very 104:easy'\n",
    "pattern1= '\\d'\n",
    "pattern2 = '\\d+'\n",
    "result1=re.findall(pattern1,xstring)\n",
    "result2=re.findall(pattern2,xstring)\n",
    "print(result1,result2)"
   ]
  },
  {
   "cell_type": "code",
   "execution_count": 10,
   "id": "18e8d84d",
   "metadata": {},
   "outputs": [
    {
     "name": "stdout",
     "output_type": "stream",
     "text": [
      "<re.Match object; span=(0, 1), match='8'> <re.Match object; span=(0, 6), match='808981'>\n"
     ]
    }
   ],
   "source": [
    "#search returns the match object and the first occurence of the match\n",
    "xstring = '808981:python 102:is 103:very 104:easy'\n",
    "result3=re.search(pattern1,xstring)\n",
    "result4=re.search(pattern2,xstring)\n",
    "print(result3,result4)"
   ]
  },
  {
   "cell_type": "code",
   "execution_count": 11,
   "id": "b79b75fa",
   "metadata": {},
   "outputs": [
    {
     "name": "stdout",
     "output_type": "stream",
     "text": [
      "['', ':python ', ':is ', ':very ', ':easy']\n"
     ]
    }
   ],
   "source": [
    "#split method returns the list by splitting the string in accordance to input pattern\n",
    "xstring = '108981:python 102:is 103:very 104:easy'\n",
    "pattern2 = '\\d+'\n",
    "result5=re.split(pattern2,xstring)\n",
    "print(result5)"
   ]
  },
  {
   "cell_type": "code",
   "execution_count": 12,
   "id": "561731a3",
   "metadata": {},
   "outputs": [
    {
     "name": "stdout",
     "output_type": "stream",
     "text": [
      "['', ':python ', ':is 103:very 104:easy']\n"
     ]
    }
   ],
   "source": [
    "n=2\n",
    "xstring = '108981:python 102:is 103:very 104:easy'\n",
    "pattern2 = '\\d+'\n",
    "result5=re.split(pattern2,xstring,n)\n",
    "print(result5)"
   ]
  },
  {
   "cell_type": "code",
   "execution_count": 14,
   "id": "7896e8ea",
   "metadata": {},
   "outputs": [
    {
     "name": "stdout",
     "output_type": "stream",
     "text": [
      "is:python is:is is:very is:easy\n"
     ]
    }
   ],
   "source": [
    "#sub method substitutes our match with the given input value\n",
    "xstring = '108981:python 102:is 103:very 104:easy'\n",
    "pattern2 = '\\d+'\n",
    "result5=re.sub(pattern2,'is',xstring)\n",
    "print(result5)"
   ]
  },
  {
   "cell_type": "code",
   "execution_count": 15,
   "id": "0a535d2c",
   "metadata": {},
   "outputs": [
    {
     "name": "stdout",
     "output_type": "stream",
     "text": [
      "None\n",
      "None\n"
     ]
    }
   ],
   "source": [
    "#re.match returns the first occurence match for corresponding input pattern\n",
    "xstring = '108981:python 102:is 103:very 104:easy'\n",
    "pattern2='easy'\n",
    "result2=re.match(pattern2,xstring)\n",
    "pattern3 = re.compile('103')\n",
    "result3 = re.match(pattern3, xstring)\n",
    "print(result2)\n",
    "print(result3)"
   ]
  },
  {
   "cell_type": "code",
   "execution_count": null,
   "id": "c6f923c6",
   "metadata": {},
   "outputs": [],
   "source": []
  }
 ],
 "metadata": {
  "kernelspec": {
   "display_name": "Python 3",
   "language": "python",
   "name": "python3"
  },
  "language_info": {
   "codemirror_mode": {
    "name": "ipython",
    "version": 3
   },
   "file_extension": ".py",
   "mimetype": "text/x-python",
   "name": "python",
   "nbconvert_exporter": "python",
   "pygments_lexer": "ipython3",
   "version": "3.8.8"
  }
 },
 "nbformat": 4,
 "nbformat_minor": 5
}
