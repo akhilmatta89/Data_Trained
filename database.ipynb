{
 "cells": [
  {
   "cell_type": "markdown",
   "id": "d1afa727",
   "metadata": {},
   "source": [
    "# DATABASES CONCEPTS"
   ]
  },
  {
   "cell_type": "code",
   "execution_count": 1,
   "id": "29d7c4b2",
   "metadata": {},
   "outputs": [],
   "source": [
    "import sqlite3"
   ]
  },
  {
   "cell_type": "markdown",
   "id": "e3dc7754",
   "metadata": {},
   "source": [
    "# Create DataBase"
   ]
  },
  {
   "cell_type": "code",
   "execution_count": 2,
   "id": "87e728b5",
   "metadata": {},
   "outputs": [],
   "source": [
    "#This cretaes teh student_database db file in home directory\n",
    "db = sqlite3.connect('student_database.db')"
   ]
  },
  {
   "cell_type": "code",
   "execution_count": 4,
   "id": "2ab72435",
   "metadata": {},
   "outputs": [],
   "source": [
    "#This will create a temorary work area in system memory when sql statement is executed\n",
    "cur = db.cursor()"
   ]
  },
  {
   "cell_type": "code",
   "execution_count": 5,
   "id": "b500a330",
   "metadata": {},
   "outputs": [
    {
     "data": {
      "text/plain": [
       "<sqlite3.Cursor at 0x18fe01b6110>"
      ]
     },
     "execution_count": 5,
     "metadata": {},
     "output_type": "execute_result"
    }
   ],
   "source": [
    "cur.execute(\"create table student (id int primaryy key,name text,marks int)\")"
   ]
  },
  {
   "cell_type": "code",
   "execution_count": 7,
   "id": "5031d9b8",
   "metadata": {},
   "outputs": [
    {
     "data": {
      "text/plain": [
       "<sqlite3.Cursor at 0x18fe01b6110>"
      ]
     },
     "execution_count": 7,
     "metadata": {},
     "output_type": "execute_result"
    }
   ],
   "source": [
    "cur.execute(\"insert into student(id,name,marks) values(1,'akhil',100)\")"
   ]
  },
  {
   "cell_type": "code",
   "execution_count": 8,
   "id": "4b31dec3",
   "metadata": {},
   "outputs": [
    {
     "name": "stdout",
     "output_type": "stream",
     "text": [
      "(1, 'akhil', 100)\n"
     ]
    }
   ],
   "source": [
    "results = cur.execute('select * from student')\n",
    "for row in results:\n",
    "    print(row)"
   ]
  },
  {
   "cell_type": "code",
   "execution_count": 9,
   "id": "0c1ca5fa",
   "metadata": {},
   "outputs": [
    {
     "data": {
      "text/plain": [
       "<sqlite3.Cursor at 0x18fe01b6110>"
      ]
     },
     "execution_count": 9,
     "metadata": {},
     "output_type": "execute_result"
    }
   ],
   "source": [
    "cur.execute(\"insert into student(id,name,marks) values(2,'mahesh',100)\")"
   ]
  },
  {
   "cell_type": "code",
   "execution_count": 10,
   "id": "029e27de",
   "metadata": {},
   "outputs": [
    {
     "data": {
      "text/plain": [
       "<sqlite3.Cursor at 0x18fe01b6110>"
      ]
     },
     "execution_count": 10,
     "metadata": {},
     "output_type": "execute_result"
    }
   ],
   "source": [
    "cur.execute(\"insert into student(id,name,marks) values(3,'sumanth',100)\")"
   ]
  },
  {
   "cell_type": "code",
   "execution_count": 11,
   "id": "09dcd6f4",
   "metadata": {},
   "outputs": [
    {
     "data": {
      "text/plain": [
       "<sqlite3.Cursor at 0x18fe01b6110>"
      ]
     },
     "execution_count": 11,
     "metadata": {},
     "output_type": "execute_result"
    }
   ],
   "source": [
    "cur.execute(\"insert into student(id,name,marks) values(2,'Jaya',100)\")"
   ]
  },
  {
   "cell_type": "code",
   "execution_count": 14,
   "id": "0ae922dc",
   "metadata": {},
   "outputs": [
    {
     "name": "stdout",
     "output_type": "stream",
     "text": [
      "(1, 'akhil', 100)\n",
      "(2, 'mahesh', 100)\n",
      "(3, 'sumanth', 100)\n",
      "(2, 'Jaya', 100)\n"
     ]
    }
   ],
   "source": [
    "results = cur.execute('select * from student')\n",
    "for row in results:\n",
    "    print(row)"
   ]
  },
  {
   "cell_type": "code",
   "execution_count": 15,
   "id": "4eadcc88",
   "metadata": {},
   "outputs": [
    {
     "name": "stdout",
     "output_type": "stream",
     "text": [
      "-1 records's inserted\n"
     ]
    }
   ],
   "source": [
    "print(cur.rowcount,\"records's inserted\")"
   ]
  },
  {
   "cell_type": "code",
   "execution_count": 21,
   "id": "0c0ba365",
   "metadata": {},
   "outputs": [
    {
     "data": {
      "text/plain": [
       "<sqlite3.Cursor at 0x18fe01b6110>"
      ]
     },
     "execution_count": 21,
     "metadata": {},
     "output_type": "execute_result"
    }
   ],
   "source": [
    "cur.execute(\"delete from student where id=1\")"
   ]
  },
  {
   "cell_type": "code",
   "execution_count": 22,
   "id": "ec6b2a5f",
   "metadata": {},
   "outputs": [
    {
     "name": "stdout",
     "output_type": "stream",
     "text": [
      "(2, 'mahesh', 100)\n",
      "(3, 'sumanth', 100)\n",
      "(2, 'Jaya', 100)\n"
     ]
    }
   ],
   "source": [
    "results = cur.execute('select * from student')\n",
    "for row in results:\n",
    "    print(row)"
   ]
  },
  {
   "cell_type": "code",
   "execution_count": 23,
   "id": "d72c57e5",
   "metadata": {},
   "outputs": [
    {
     "data": {
      "text/plain": [
       "<sqlite3.Cursor at 0x18fe01b6110>"
      ]
     },
     "execution_count": 23,
     "metadata": {},
     "output_type": "execute_result"
    }
   ],
   "source": [
    "cur.execute(\"delete from student where id=2\")"
   ]
  },
  {
   "cell_type": "code",
   "execution_count": 24,
   "id": "6b5e478e",
   "metadata": {},
   "outputs": [
    {
     "name": "stdout",
     "output_type": "stream",
     "text": [
      "(3, 'sumanth', 100)\n"
     ]
    }
   ],
   "source": [
    "results = cur.execute('select * from student')\n",
    "for row in results:\n",
    "    print(row)"
   ]
  },
  {
   "cell_type": "code",
   "execution_count": 25,
   "id": "5fdf2f99",
   "metadata": {},
   "outputs": [
    {
     "data": {
      "text/plain": [
       "<sqlite3.Cursor at 0x18fe01b6110>"
      ]
     },
     "execution_count": 25,
     "metadata": {},
     "output_type": "execute_result"
    }
   ],
   "source": [
    "cur.execute(\"insert into student(id,name,marks) values(1,'akhil',100)\")"
   ]
  },
  {
   "cell_type": "code",
   "execution_count": 26,
   "id": "9b10a31f",
   "metadata": {},
   "outputs": [
    {
     "data": {
      "text/plain": [
       "<sqlite3.Cursor at 0x18fe01b6110>"
      ]
     },
     "execution_count": 26,
     "metadata": {},
     "output_type": "execute_result"
    }
   ],
   "source": [
    "cur.execute(\"insert into student(id,name,marks) values(2,'mahesh',100)\")"
   ]
  },
  {
   "cell_type": "code",
   "execution_count": 27,
   "id": "7839eaaa",
   "metadata": {},
   "outputs": [
    {
     "data": {
      "text/plain": [
       "<sqlite3.Cursor at 0x18fe01b6110>"
      ]
     },
     "execution_count": 27,
     "metadata": {},
     "output_type": "execute_result"
    }
   ],
   "source": [
    "cur.execute(\"insert into student(id,name,marks) values(2,'Jaya',100)\")"
   ]
  },
  {
   "cell_type": "code",
   "execution_count": 28,
   "id": "25ff0c98",
   "metadata": {},
   "outputs": [
    {
     "name": "stdout",
     "output_type": "stream",
     "text": [
      "(3, 'sumanth', 100)\n",
      "(1, 'akhil', 100)\n",
      "(2, 'mahesh', 100)\n",
      "(2, 'Jaya', 100)\n"
     ]
    }
   ],
   "source": [
    "results = cur.execute('select * from student')\n",
    "for row in results:\n",
    "    print(row)"
   ]
  },
  {
   "cell_type": "code",
   "execution_count": 29,
   "id": "6614d2c9",
   "metadata": {},
   "outputs": [
    {
     "data": {
      "text/plain": [
       "<sqlite3.Cursor at 0x18fe01b6110>"
      ]
     },
     "execution_count": 29,
     "metadata": {},
     "output_type": "execute_result"
    }
   ],
   "source": [
    "cur.execute(\"delete from student where id=2\")"
   ]
  },
  {
   "cell_type": "code",
   "execution_count": 30,
   "id": "e39253b6",
   "metadata": {},
   "outputs": [
    {
     "name": "stdout",
     "output_type": "stream",
     "text": [
      "(3, 'sumanth', 100)\n",
      "(1, 'akhil', 100)\n"
     ]
    }
   ],
   "source": [
    "results = cur.execute('select * from student')\n",
    "for row in results:\n",
    "    print(row)"
   ]
  },
  {
   "cell_type": "code",
   "execution_count": 31,
   "id": "a60b35d1",
   "metadata": {},
   "outputs": [
    {
     "data": {
      "text/plain": [
       "<sqlite3.Cursor at 0x18fe01b6110>"
      ]
     },
     "execution_count": 31,
     "metadata": {},
     "output_type": "execute_result"
    }
   ],
   "source": [
    "cur.execute(\"insert into student(id,name,marks) values(2,'mahesh',100)\")"
   ]
  },
  {
   "cell_type": "code",
   "execution_count": 32,
   "id": "ad438b66",
   "metadata": {},
   "outputs": [
    {
     "data": {
      "text/plain": [
       "<sqlite3.Cursor at 0x18fe01b6110>"
      ]
     },
     "execution_count": 32,
     "metadata": {},
     "output_type": "execute_result"
    }
   ],
   "source": [
    "cur.execute(\"insert into student(id,name,marks) values(4,'Jaya',100)\")"
   ]
  },
  {
   "cell_type": "code",
   "execution_count": 33,
   "id": "a47156a8",
   "metadata": {},
   "outputs": [
    {
     "name": "stdout",
     "output_type": "stream",
     "text": [
      "(3, 'sumanth', 100)\n",
      "(1, 'akhil', 100)\n",
      "(2, 'mahesh', 100)\n",
      "(4, 'Jaya', 100)\n"
     ]
    }
   ],
   "source": [
    "results = cur.execute('select * from student')\n",
    "for row in results:\n",
    "    print(row)"
   ]
  },
  {
   "cell_type": "code",
   "execution_count": 34,
   "id": "a25c985d",
   "metadata": {},
   "outputs": [
    {
     "name": "stdout",
     "output_type": "stream",
     "text": [
      "-1 records's inserted\n"
     ]
    }
   ],
   "source": [
    "print(cur.rowcount,\"records's inserted\")"
   ]
  },
  {
   "cell_type": "code",
   "execution_count": 35,
   "id": "3e434f0b",
   "metadata": {},
   "outputs": [
    {
     "data": {
      "text/plain": [
       "<sqlite3.Cursor at 0x18fe01b6110>"
      ]
     },
     "execution_count": 35,
     "metadata": {},
     "output_type": "execute_result"
    }
   ],
   "source": [
    "cur.execute(\"insert into student values(5,'Harika',100)\")"
   ]
  },
  {
   "cell_type": "code",
   "execution_count": 37,
   "id": "f39aa5a0",
   "metadata": {},
   "outputs": [
    {
     "data": {
      "text/plain": [
       "<function Connection.commit>"
      ]
     },
     "execution_count": 37,
     "metadata": {},
     "output_type": "execute_result"
    }
   ],
   "source": [
    "db.commit"
   ]
  },
  {
   "cell_type": "code",
   "execution_count": 38,
   "id": "25d0cb57",
   "metadata": {},
   "outputs": [
    {
     "name": "stdout",
     "output_type": "stream",
     "text": [
      "(3, 'sumanth', 100)\n",
      "(1, 'akhil', 100)\n",
      "(2, 'mahesh', 100)\n",
      "(4, 'Jaya', 100)\n",
      "(5, 'Harika', 100)\n"
     ]
    }
   ],
   "source": [
    "results = cur.execute('select * from student')\n",
    "for row in results:\n",
    "    print(row)"
   ]
  },
  {
   "cell_type": "code",
   "execution_count": 39,
   "id": "df3709ee",
   "metadata": {},
   "outputs": [
    {
     "name": "stdout",
     "output_type": "stream",
     "text": [
      "-1 records's inserted\n"
     ]
    }
   ],
   "source": [
    " print(cur.rowcount,\"records's inserted\")"
   ]
  },
  {
   "cell_type": "code",
   "execution_count": null,
   "id": "4824cca9",
   "metadata": {},
   "outputs": [],
   "source": []
  }
 ],
 "metadata": {
  "kernelspec": {
   "display_name": "Python 3",
   "language": "python",
   "name": "python3"
  },
  "language_info": {
   "codemirror_mode": {
    "name": "ipython",
    "version": 3
   },
   "file_extension": ".py",
   "mimetype": "text/x-python",
   "name": "python",
   "nbconvert_exporter": "python",
   "pygments_lexer": "ipython3",
   "version": "3.8.8"
  }
 },
 "nbformat": 4,
 "nbformat_minor": 5
}
