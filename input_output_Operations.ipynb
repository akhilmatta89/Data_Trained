{
 "cells": [
  {
   "cell_type": "markdown",
   "id": "c01d7f1f",
   "metadata": {},
   "source": [
    "# INPUT/OUTPUT OPERATIONS"
   ]
  },
  {
   "cell_type": "code",
   "execution_count": 6,
   "id": "a3a47eab",
   "metadata": {},
   "outputs": [],
   "source": [
    "myfile = open(\"C:\\IO_operations\\my_first_file.txt\", \"w\")\n",
    "myfile.write(\"this is my first file\")\n",
    "myfile.close()"
   ]
  },
  {
   "cell_type": "code",
   "execution_count": 7,
   "id": "be73bb39",
   "metadata": {},
   "outputs": [
    {
     "name": "stdout",
     "output_type": "stream",
     "text": [
      "this is my first file\n"
     ]
    }
   ],
   "source": [
    "read_my_file = open(\"C:\\IO_operations\\my_first_file.txt\", \"r\")\n",
    "print(read_my_file.read())\n",
    "read_my_file.close()"
   ]
  },
  {
   "cell_type": "code",
   "execution_count": 9,
   "id": "71159960",
   "metadata": {},
   "outputs": [],
   "source": [
    "append_line = open(\"C:\\IO_operations\\my_first_file.txt\", \"a\")\n",
    "append_line.write('\\n This is my second line')\n",
    "append_line.close()"
   ]
  },
  {
   "cell_type": "markdown",
   "id": "d654452a",
   "metadata": {},
   "source": [
    "# Object Serilization"
   ]
  },
  {
   "cell_type": "code",
   "execution_count": 10,
   "id": "161e2e8c",
   "metadata": {},
   "outputs": [],
   "source": [
    "import pickle"
   ]
  },
  {
   "cell_type": "code",
   "execution_count": 11,
   "id": "2ce42ff1",
   "metadata": {},
   "outputs": [],
   "source": [
    "my_dict = {\"name\":\"akhil\",\"age\":26,\"organisation\":\"UST\"}"
   ]
  },
  {
   "cell_type": "code",
   "execution_count": 12,
   "id": "2d426178",
   "metadata": {},
   "outputs": [],
   "source": [
    "outfile = open('my_dict.obj', \"wb\")\n",
    "pickle.dump(my_dict, outfile)\n",
    "outfile.close()"
   ]
  },
  {
   "cell_type": "code",
   "execution_count": 13,
   "id": "d967bdd5",
   "metadata": {},
   "outputs": [
    {
     "name": "stdout",
     "output_type": "stream",
     "text": [
      "{'name': 'akhil', 'age': 26, 'organisation': 'UST'}\n"
     ]
    }
   ],
   "source": [
    "infile = open('my_dict.obj','rb')\n",
    "data = pickle.load(infile)\n",
    "infile.close()\n",
    "print(data)\n"
   ]
  },
  {
   "cell_type": "code",
   "execution_count": null,
   "id": "4eb95982",
   "metadata": {},
   "outputs": [],
   "source": []
  }
 ],
 "metadata": {
  "kernelspec": {
   "display_name": "Python 3",
   "language": "python",
   "name": "python3"
  },
  "language_info": {
   "codemirror_mode": {
    "name": "ipython",
    "version": 3
   },
   "file_extension": ".py",
   "mimetype": "text/x-python",
   "name": "python",
   "nbconvert_exporter": "python",
   "pygments_lexer": "ipython3",
   "version": "3.8.8"
  }
 },
 "nbformat": 4,
 "nbformat_minor": 5
}
