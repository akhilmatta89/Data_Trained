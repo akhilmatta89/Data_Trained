{
 "cells": [
  {
   "cell_type": "code",
   "execution_count": 7,
   "id": "ebc5081e",
   "metadata": {},
   "outputs": [],
   "source": [
    "#with the help of plot method we can make the data visulizable\n",
    "#bar or barh for bar plots\n",
    "#hist of histogram\n",
    "#box for boxplot\n",
    "#area of area plots\n",
    "#scatter for scatter plots\n",
    "import pandas as pd\n",
    "import numpy as np"
   ]
  },
  {
   "cell_type": "code",
   "execution_count": 8,
   "id": "8d7a3975",
   "metadata": {},
   "outputs": [
    {
     "data": {
      "text/html": [
       "<div>\n",
       "<style scoped>\n",
       "    .dataframe tbody tr th:only-of-type {\n",
       "        vertical-align: middle;\n",
       "    }\n",
       "\n",
       "    .dataframe tbody tr th {\n",
       "        vertical-align: top;\n",
       "    }\n",
       "\n",
       "    .dataframe thead th {\n",
       "        text-align: right;\n",
       "    }\n",
       "</style>\n",
       "<table border=\"1\" class=\"dataframe\">\n",
       "  <thead>\n",
       "    <tr style=\"text-align: right;\">\n",
       "      <th></th>\n",
       "      <th>A</th>\n",
       "      <th>B</th>\n",
       "      <th>C</th>\n",
       "      <th>D</th>\n",
       "    </tr>\n",
       "  </thead>\n",
       "  <tbody>\n",
       "    <tr>\n",
       "      <th>0</th>\n",
       "      <td>0.609360</td>\n",
       "      <td>0.732435</td>\n",
       "      <td>0.647388</td>\n",
       "      <td>0.253845</td>\n",
       "    </tr>\n",
       "    <tr>\n",
       "      <th>1</th>\n",
       "      <td>0.727290</td>\n",
       "      <td>0.056815</td>\n",
       "      <td>0.973691</td>\n",
       "      <td>0.601329</td>\n",
       "    </tr>\n",
       "    <tr>\n",
       "      <th>2</th>\n",
       "      <td>0.354079</td>\n",
       "      <td>0.321964</td>\n",
       "      <td>0.756647</td>\n",
       "      <td>0.627024</td>\n",
       "    </tr>\n",
       "    <tr>\n",
       "      <th>3</th>\n",
       "      <td>0.442474</td>\n",
       "      <td>0.215393</td>\n",
       "      <td>0.229964</td>\n",
       "      <td>0.231012</td>\n",
       "    </tr>\n",
       "    <tr>\n",
       "      <th>4</th>\n",
       "      <td>0.616856</td>\n",
       "      <td>0.251696</td>\n",
       "      <td>0.297852</td>\n",
       "      <td>0.686041</td>\n",
       "    </tr>\n",
       "    <tr>\n",
       "      <th>5</th>\n",
       "      <td>0.059440</td>\n",
       "      <td>0.247722</td>\n",
       "      <td>0.168193</td>\n",
       "      <td>0.625192</td>\n",
       "    </tr>\n",
       "    <tr>\n",
       "      <th>6</th>\n",
       "      <td>0.856855</td>\n",
       "      <td>0.038414</td>\n",
       "      <td>0.315657</td>\n",
       "      <td>0.847749</td>\n",
       "    </tr>\n",
       "    <tr>\n",
       "      <th>7</th>\n",
       "      <td>0.609076</td>\n",
       "      <td>0.950425</td>\n",
       "      <td>0.754453</td>\n",
       "      <td>0.503410</td>\n",
       "    </tr>\n",
       "    <tr>\n",
       "      <th>8</th>\n",
       "      <td>0.963801</td>\n",
       "      <td>0.282963</td>\n",
       "      <td>0.147202</td>\n",
       "      <td>0.497353</td>\n",
       "    </tr>\n",
       "    <tr>\n",
       "      <th>9</th>\n",
       "      <td>0.980502</td>\n",
       "      <td>0.924947</td>\n",
       "      <td>0.492072</td>\n",
       "      <td>0.016614</td>\n",
       "    </tr>\n",
       "  </tbody>\n",
       "</table>\n",
       "</div>"
      ],
      "text/plain": [
       "          A         B         C         D\n",
       "0  0.609360  0.732435  0.647388  0.253845\n",
       "1  0.727290  0.056815  0.973691  0.601329\n",
       "2  0.354079  0.321964  0.756647  0.627024\n",
       "3  0.442474  0.215393  0.229964  0.231012\n",
       "4  0.616856  0.251696  0.297852  0.686041\n",
       "5  0.059440  0.247722  0.168193  0.625192\n",
       "6  0.856855  0.038414  0.315657  0.847749\n",
       "7  0.609076  0.950425  0.754453  0.503410\n",
       "8  0.963801  0.282963  0.147202  0.497353\n",
       "9  0.980502  0.924947  0.492072  0.016614"
      ]
     },
     "execution_count": 8,
     "metadata": {},
     "output_type": "execute_result"
    }
   ],
   "source": [
    "df=pd.DataFrame(np.random.rand(10,4),columns=['A','B','C','D'])\n",
    "df"
   ]
  },
  {
   "cell_type": "code",
   "execution_count": 9,
   "id": "a34db7b1",
   "metadata": {},
   "outputs": [
    {
     "data": {
      "text/plain": [
       "<AxesSubplot:>"
      ]
     },
     "execution_count": 9,
     "metadata": {},
     "output_type": "execute_result"
    },
    {
     "data": {
      "image/png": "[encoded data removed]",
      "text/plain": [
       "<Figure size 432x288 with 1 Axes>"
      ]
     },
     "metadata": {
      "needs_background": "light"
     },
     "output_type": "display_data"
    }
   ],
   "source": [
    "#making the bar plot\n",
    "df.plot.bar()"
   ]
  },
  {
   "cell_type": "code",
   "execution_count": 10,
   "id": "99d5b73f",
   "metadata": {},
   "outputs": [
    {
     "data": {
      "text/plain": [
       "<AxesSubplot:>"
      ]
     },
     "execution_count": 10,
     "metadata": {},
     "output_type": "execute_result"
    },
    {
     "data": {
      "image/png": "[encoded data removed]",
      "text/plain": [
       "<Figure size 432x288 with 1 Axes>"
      ]
     },
     "metadata": {
      "needs_background": "light"
     },
     "output_type": "display_data"
    }
   ],
   "source": [
    "#plot.bar method with different parameters\n",
    "#stacked makes the data visulizable one on other\n",
    "df.plot.bar(stacked=True)"
   ]
  },
  {
   "cell_type": "code",
   "execution_count": 12,
   "id": "7a2796f4",
   "metadata": {},
   "outputs": [
    {
     "data": {
      "text/plain": [
       "<AxesSubplot:>"
      ]
     },
     "execution_count": 12,
     "metadata": {},
     "output_type": "execute_result"
    },
    {
     "data": {
      "image/png": "[encoded data removed]",
      "text/plain": [
       "<Figure size 432x288 with 1 Axes>"
      ]
     },
     "metadata": {
      "needs_background": "light"
     },
     "output_type": "display_data"
    }
   ],
   "source": [
    "#if you want to put the data in horizontal format\n",
    "df.plot.barh(stacked=True)"
   ]
  },
  {
   "cell_type": "code",
   "execution_count": 13,
   "id": "0ee2b985",
   "metadata": {},
   "outputs": [
    {
     "data": {
      "text/plain": [
       "<AxesSubplot:>"
      ]
     },
     "execution_count": 13,
     "metadata": {},
     "output_type": "execute_result"
    },
    {
     "data": {
      "image/png": "[encoded data removed]",
      "text/plain": [
       "<Figure size 432x288 with 1 Axes>"
      ]
     },
     "metadata": {
      "needs_background": "light"
     },
     "output_type": "display_data"
    }
   ],
   "source": [
    "df.plot.barh(stacked=False)"
   ]
  },
  {
   "cell_type": "code",
   "execution_count": null,
   "id": "e17e5013",
   "metadata": {},
   "outputs": [],
   "source": [
    "#histograms are created to see the frequency of the data\n",
    "#ex:how many timesthe particular data has appered"
   ]
  },
  {
   "cell_type": "code",
   "execution_count": 15,
   "id": "8ecd9a3d",
   "metadata": {},
   "outputs": [
    {
     "data": {
      "text/plain": [
       "<AxesSubplot:ylabel='Frequency'>"
      ]
     },
     "execution_count": 15,
     "metadata": {},
     "output_type": "execute_result"
    },
    {
     "data": {
      "image/png": "[encoded data removed]",
      "text/plain": [
       "<Figure size 432x288 with 1 Axes>"
      ]
     },
     "metadata": {
      "needs_background": "light"
     },
     "output_type": "display_data"
    }
   ],
   "source": [
    "df.plot.hist()"
   ]
  },
  {
   "cell_type": "code",
   "execution_count": 16,
   "id": "7ee2f41e",
   "metadata": {},
   "outputs": [
    {
     "data": {
      "text/plain": [
       "<AxesSubplot:>"
      ]
     },
     "execution_count": 16,
     "metadata": {},
     "output_type": "execute_result"
    },
    {
     "data": {
      "image/png": "[encoded data removed]",
      "text/plain": [
       "<Figure size 432x288 with 1 Axes>"
      ]
     },
     "metadata": {
      "needs_background": "light"
     },
     "output_type": "display_data"
    }
   ],
   "source": [
    "#box give sthe minimum and max numbers data from dataframe\n",
    "df.plot.box()"
   ]
  },
  {
   "cell_type": "code",
   "execution_count": 17,
   "id": "1f348947",
   "metadata": {},
   "outputs": [
    {
     "data": {
      "text/html": [
       "<div>\n",
       "<style scoped>\n",
       "    .dataframe tbody tr th:only-of-type {\n",
       "        vertical-align: middle;\n",
       "    }\n",
       "\n",
       "    .dataframe tbody tr th {\n",
       "        vertical-align: top;\n",
       "    }\n",
       "\n",
       "    .dataframe thead th {\n",
       "        text-align: right;\n",
       "    }\n",
       "</style>\n",
       "<table border=\"1\" class=\"dataframe\">\n",
       "  <thead>\n",
       "    <tr style=\"text-align: right;\">\n",
       "      <th></th>\n",
       "      <th>A</th>\n",
       "      <th>B</th>\n",
       "      <th>C</th>\n",
       "      <th>D</th>\n",
       "      <th>E</th>\n",
       "    </tr>\n",
       "  </thead>\n",
       "  <tbody>\n",
       "    <tr>\n",
       "      <th>0</th>\n",
       "      <td>0.435868</td>\n",
       "      <td>0.082034</td>\n",
       "      <td>0.791247</td>\n",
       "      <td>0.846347</td>\n",
       "      <td>0.285528</td>\n",
       "    </tr>\n",
       "    <tr>\n",
       "      <th>1</th>\n",
       "      <td>0.976606</td>\n",
       "      <td>0.173434</td>\n",
       "      <td>0.944027</td>\n",
       "      <td>0.756648</td>\n",
       "      <td>0.635067</td>\n",
       "    </tr>\n",
       "    <tr>\n",
       "      <th>2</th>\n",
       "      <td>0.412180</td>\n",
       "      <td>0.306984</td>\n",
       "      <td>0.986644</td>\n",
       "      <td>0.965370</td>\n",
       "      <td>0.599402</td>\n",
       "    </tr>\n",
       "    <tr>\n",
       "      <th>3</th>\n",
       "      <td>0.580595</td>\n",
       "      <td>0.193424</td>\n",
       "      <td>0.888403</td>\n",
       "      <td>0.507901</td>\n",
       "      <td>0.879128</td>\n",
       "    </tr>\n",
       "    <tr>\n",
       "      <th>4</th>\n",
       "      <td>0.091937</td>\n",
       "      <td>0.275147</td>\n",
       "      <td>0.370864</td>\n",
       "      <td>0.767018</td>\n",
       "      <td>0.416300</td>\n",
       "    </tr>\n",
       "    <tr>\n",
       "      <th>5</th>\n",
       "      <td>0.165160</td>\n",
       "      <td>0.884995</td>\n",
       "      <td>0.577839</td>\n",
       "      <td>0.896312</td>\n",
       "      <td>0.179671</td>\n",
       "    </tr>\n",
       "    <tr>\n",
       "      <th>6</th>\n",
       "      <td>0.682583</td>\n",
       "      <td>0.360215</td>\n",
       "      <td>0.878686</td>\n",
       "      <td>0.068507</td>\n",
       "      <td>0.075810</td>\n",
       "    </tr>\n",
       "    <tr>\n",
       "      <th>7</th>\n",
       "      <td>0.747488</td>\n",
       "      <td>0.082100</td>\n",
       "      <td>0.303439</td>\n",
       "      <td>0.191893</td>\n",
       "      <td>0.585722</td>\n",
       "    </tr>\n",
       "    <tr>\n",
       "      <th>8</th>\n",
       "      <td>0.852900</td>\n",
       "      <td>0.458575</td>\n",
       "      <td>0.922328</td>\n",
       "      <td>0.281089</td>\n",
       "      <td>0.326600</td>\n",
       "    </tr>\n",
       "    <tr>\n",
       "      <th>9</th>\n",
       "      <td>0.579077</td>\n",
       "      <td>0.213240</td>\n",
       "      <td>0.324758</td>\n",
       "      <td>0.468139</td>\n",
       "      <td>0.307338</td>\n",
       "    </tr>\n",
       "  </tbody>\n",
       "</table>\n",
       "</div>"
      ],
      "text/plain": [
       "          A         B         C         D         E\n",
       "0  0.435868  0.082034  0.791247  0.846347  0.285528\n",
       "1  0.976606  0.173434  0.944027  0.756648  0.635067\n",
       "2  0.412180  0.306984  0.986644  0.965370  0.599402\n",
       "3  0.580595  0.193424  0.888403  0.507901  0.879128\n",
       "4  0.091937  0.275147  0.370864  0.767018  0.416300\n",
       "5  0.165160  0.884995  0.577839  0.896312  0.179671\n",
       "6  0.682583  0.360215  0.878686  0.068507  0.075810\n",
       "7  0.747488  0.082100  0.303439  0.191893  0.585722\n",
       "8  0.852900  0.458575  0.922328  0.281089  0.326600\n",
       "9  0.579077  0.213240  0.324758  0.468139  0.307338"
      ]
     },
     "execution_count": 17,
     "metadata": {},
     "output_type": "execute_result"
    }
   ],
   "source": [
    "df=pd.DataFrame(np.random.rand(10,5),columns=['A','B','C','D','E'])\n",
    "df"
   ]
  },
  {
   "cell_type": "code",
   "execution_count": 18,
   "id": "be42ecd0",
   "metadata": {},
   "outputs": [
    {
     "data": {
      "text/plain": [
       "<AxesSubplot:>"
      ]
     },
     "execution_count": 18,
     "metadata": {},
     "output_type": "execute_result"
    },
    {
     "data": {
      "image/png": "[encoded data removed]",
      "text/plain": [
       "<Figure size 432x288 with 1 Axes>"
      ]
     },
     "metadata": {
      "needs_background": "light"
     },
     "output_type": "display_data"
    }
   ],
   "source": [
    "#when you want to get the area of the data\n",
    "df.plot.area()"
   ]
  },
  {
   "cell_type": "code",
   "execution_count": 20,
   "id": "8de09562",
   "metadata": {},
   "outputs": [
    {
     "data": {
      "text/plain": [
       "<AxesSubplot:xlabel='A', ylabel='B'>"
      ]
     },
     "execution_count": 20,
     "metadata": {},
     "output_type": "execute_result"
    },
    {
     "data": {
      "image/png": "[encoded data removed]",
      "text/plain": [
       "<Figure size 432x288 with 1 Axes>"
      ]
     },
     "metadata": {
      "needs_background": "light"
     },
     "output_type": "display_data"
    }
   ],
   "source": [
    "#when you want to get the scatter plot we need to add scatter method\n",
    "#scatter method takres 2 inputs and plots them in graph\n",
    "df.plot.scatter(x='A',y='B')"
   ]
  },
  {
   "cell_type": "code",
   "execution_count": 21,
   "id": "72ead15c",
   "metadata": {},
   "outputs": [
    {
     "data": {
      "text/plain": [
       "<AxesSubplot:xlabel='C', ylabel='E'>"
      ]
     },
     "execution_count": 21,
     "metadata": {},
     "output_type": "execute_result"
    },
    {
     "data": {
      "image/png": "[encoded data removed]",
      "text/plain": [
       "<Figure size 432x288 with 1 Axes>"
      ]
     },
     "metadata": {
      "needs_background": "light"
     },
     "output_type": "display_data"
    }
   ],
   "source": [
    "df.plot.scatter(x='C',y='E')"
   ]
  },
  {
   "cell_type": "code",
   "execution_count": null,
   "id": "5bfee02c",
   "metadata": {},
   "outputs": [],
   "source": []
  }
 ],
 "metadata": {
  "kernelspec": {
   "display_name": "Python 3",
   "language": "python",
   "name": "python3"
  },
  "language_info": {
   "codemirror_mode": {
    "name": "ipython",
    "version": 3
   },
   "file_extension": ".py",
   "mimetype": "text/x-python",
   "name": "python",
   "nbconvert_exporter": "python",
   "pygments_lexer": "ipython3",
   "version": "3.8.8"
  }
 },
 "nbformat": 4,
 "nbformat_minor": 5
}
