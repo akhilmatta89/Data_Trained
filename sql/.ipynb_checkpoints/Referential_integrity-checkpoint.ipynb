{
 "cells": [
  {
   "cell_type": "markdown",
   "id": "a6159010",
   "metadata": {},
   "source": [
    "26-12-21"
   ]
  },
  {
   "cell_type": "markdown",
   "id": "aeeb82f9",
   "metadata": {},
   "source": [
    "# Referential integrity"
   ]
  },
  {
   "cell_type": "code",
   "execution_count": 10,
   "id": "3957eb92",
   "metadata": {},
   "outputs": [],
   "source": [
    "import sqlite3"
   ]
  },
  {
   "cell_type": "code",
   "execution_count": 14,
   "id": "c39278dd",
   "metadata": {},
   "outputs": [],
   "source": [
    "db = sqlite3.connect('student_course.db')"
   ]
  },
  {
   "cell_type": "code",
   "execution_count": 16,
   "id": "f72f945d",
   "metadata": {},
   "outputs": [],
   "source": [
    "#creating cursor object\n",
    "cur=db.cursor()"
   ]
  },
  {
   "cell_type": "code",
   "execution_count": 17,
   "id": "35d7d81f",
   "metadata": {},
   "outputs": [
    {
     "data": {
      "text/plain": [
       "<sqlite3.Cursor at 0x18c8d4f0570>"
      ]
     },
     "execution_count": 17,
     "metadata": {},
     "output_type": "execute_result"
    }
   ],
   "source": [
    "cur.execute(\"create table course(courseid int primary key,coursename text, duration int)\")"
   ]
  },
  {
   "cell_type": "code",
   "execution_count": 18,
   "id": "5f028730",
   "metadata": {},
   "outputs": [],
   "source": [
    "create_student=cur.execute(\"create table student(rollno int primary key,studentname text,age int,courseid int,foreign key(courseid) references course(courseid))\")"
   ]
  },
  {
   "cell_type": "code",
   "execution_count": 19,
   "id": "f7495a4d",
   "metadata": {},
   "outputs": [
    {
     "data": {
      "text/plain": [
       "<sqlite3.Cursor at 0x18c8d4f0570>"
      ]
     },
     "execution_count": 19,
     "metadata": {},
     "output_type": "execute_result"
    }
   ],
   "source": [
    "cur.execute(\"insert into course values(1,'python',1),(2,'sql',3),(3,'data analyst',5),(4,'data science',11)\")"
   ]
  },
  {
   "cell_type": "code",
   "execution_count": 20,
   "id": "7d3cd55b",
   "metadata": {},
   "outputs": [
    {
     "name": "stdout",
     "output_type": "stream",
     "text": [
      "4 record(s) inserted\n"
     ]
    }
   ],
   "source": [
    "print(cur.rowcount,\"record(s) inserted\")\n",
    "db.commit;"
   ]
  },
  {
   "cell_type": "code",
   "execution_count": 21,
   "id": "d25ec2c6",
   "metadata": {},
   "outputs": [
    {
     "name": "stdout",
     "output_type": "stream",
     "text": [
      "(1, 'python', 1)\n",
      "(2, 'sql', 3)\n",
      "(3, 'data analyst', 5)\n",
      "(4, 'data science', 11)\n"
     ]
    }
   ],
   "source": [
    "result = cur.execute(\"select * from course\")\n",
    "for rows in result:\n",
    "    print(rows)"
   ]
  },
  {
   "cell_type": "code",
   "execution_count": 22,
   "id": "84ba6a4b",
   "metadata": {},
   "outputs": [
    {
     "data": {
      "text/plain": [
       "<sqlite3.Cursor at 0x18c8d4f0570>"
      ]
     },
     "execution_count": 22,
     "metadata": {},
     "output_type": "execute_result"
    }
   ],
   "source": [
    "cur.execute(\"insert into student values(1,'akhil',26,4),(2,'jack',25,1),(3,'amit',28,3)\")"
   ]
  },
  {
   "cell_type": "code",
   "execution_count": 23,
   "id": "c801365d",
   "metadata": {},
   "outputs": [
    {
     "name": "stdout",
     "output_type": "stream",
     "text": [
      "3 record(s) inserted\n",
      "(1, 'akhil', 26, 4)\n",
      "(2, 'jack', 25, 1)\n",
      "(3, 'amit', 28, 3)\n"
     ]
    }
   ],
   "source": [
    "print(cur.rowcount,\"record(s) inserted\")\n",
    "db.commit;\n",
    "result = cur.execute(\"select * from student\")\n",
    "for rows in result:\n",
    "    print(rows)"
   ]
  },
  {
   "cell_type": "code",
   "execution_count": 27,
   "id": "1499e612",
   "metadata": {},
   "outputs": [
    {
     "data": {
      "text/plain": [
       "<sqlite3.Cursor at 0x18c8d4f0570>"
      ]
     },
     "execution_count": 27,
     "metadata": {},
     "output_type": "execute_result"
    }
   ],
   "source": [
    "cur.execute(\"insert into student values(4,'steve',26,null)\")"
   ]
  },
  {
   "cell_type": "code",
   "execution_count": 28,
   "id": "eb3cfac8",
   "metadata": {},
   "outputs": [
    {
     "name": "stdout",
     "output_type": "stream",
     "text": [
      "1 record(s) inserted\n",
      "(1, 'akhil', 26, 4)\n",
      "(2, 'jack', 25, 1)\n",
      "(3, 'amit', 28, 3)\n",
      "(4, 'steve', 26, None)\n"
     ]
    }
   ],
   "source": [
    "print(cur.rowcount,\"record(s) inserted\")\n",
    "db.commit;\n",
    "result = cur.execute(\"select * from student\")\n",
    "for rows in result:\n",
    "    print(rows)"
   ]
  },
  {
   "cell_type": "code",
   "execution_count": 29,
   "id": "60582bd0",
   "metadata": {},
   "outputs": [
    {
     "data": {
      "text/plain": [
       "[(1, 'akhil', 26, 4),\n",
       " (2, 'jack', 25, 1),\n",
       " (3, 'amit', 28, 3),\n",
       " (4, 'steve', 26, None)]"
      ]
     },
     "execution_count": 29,
     "metadata": {},
     "output_type": "execute_result"
    }
   ],
   "source": [
    "results = cur.execute(\"select * from student\")\n",
    "results.fetchall()"
   ]
  },
  {
   "cell_type": "code",
   "execution_count": 30,
   "id": "0cca310f",
   "metadata": {},
   "outputs": [],
   "source": [
    "results = cur.execute(\"select courseid from course where coursename='data science'\")"
   ]
  },
  {
   "cell_type": "code",
   "execution_count": 31,
   "id": "d09cd553",
   "metadata": {},
   "outputs": [
    {
     "data": {
      "text/plain": [
       "[(4,)]"
      ]
     },
     "execution_count": 31,
     "metadata": {},
     "output_type": "execute_result"
    }
   ],
   "source": [
    "results.fetchall()"
   ]
  },
  {
   "cell_type": "code",
   "execution_count": 32,
   "id": "b79130b2",
   "metadata": {},
   "outputs": [
    {
     "data": {
      "text/plain": [
       "[('data science',)]"
      ]
     },
     "execution_count": 32,
     "metadata": {},
     "output_type": "execute_result"
    }
   ],
   "source": [
    "testing = cur.execute(\"select coursename from course where courseid=4\")\n",
    "testing.fetchall()"
   ]
  },
  {
   "cell_type": "markdown",
   "id": "dc850236",
   "metadata": {},
   "source": [
    "# subquery"
   ]
  },
  {
   "cell_type": "code",
   "execution_count": 33,
   "id": "8e71cc66",
   "metadata": {},
   "outputs": [
    {
     "data": {
      "text/plain": [
       "[(1, 'akhil', 26, 4)]"
      ]
     },
     "execution_count": 33,
     "metadata": {},
     "output_type": "execute_result"
    }
   ],
   "source": [
    "result = cur.execute(\"select * from student where courseid = (select courseid from course where coursename = 'data science')\")\n",
    "result.fetchall()"
   ]
  },
  {
   "cell_type": "code",
   "execution_count": 34,
   "id": "67393944",
   "metadata": {},
   "outputs": [
    {
     "data": {
      "text/plain": [
       "[(2, 'jack', 25, 1)]"
      ]
     },
     "execution_count": 34,
     "metadata": {},
     "output_type": "execute_result"
    }
   ],
   "source": [
    "result = cur.execute(\"select * from student where courseid = (select courseid from course where coursename = 'python')\")\n",
    "result.fetchall()"
   ]
  },
  {
   "cell_type": "markdown",
   "id": "a1a46e35",
   "metadata": {},
   "source": [
    "# JOINS"
   ]
  },
  {
   "cell_type": "markdown",
   "id": "ce87152d",
   "metadata": {},
   "source": [
    "data common in two tables is inner join,\n",
    "all the data which is present in left side table is left join,\n",
    "all the data which is present in right  side is right join,\n",
    "data swhich is present in all the tables is called outer join"
   ]
  },
  {
   "cell_type": "markdown",
   "id": "858b3478",
   "metadata": {},
   "source": [
    "inner join"
   ]
  },
  {
   "cell_type": "code",
   "execution_count": null,
   "id": "9ccf0a46",
   "metadata": {},
   "outputs": [],
   "source": [
    "cur.execute"
   ]
  }
 ],
 "metadata": {
  "kernelspec": {
   "display_name": "Python 3",
   "language": "python",
   "name": "python3"
  },
  "language_info": {
   "codemirror_mode": {
    "name": "ipython",
    "version": 3
   },
   "file_extension": ".py",
   "mimetype": "text/x-python",
   "name": "python",
   "nbconvert_exporter": "python",
   "pygments_lexer": "ipython3",
   "version": "3.8.8"
  }
 },
 "nbformat": 4,
 "nbformat_minor": 5
}
