{
 "cells": [
  {
   "cell_type": "markdown",
   "id": "4f9bd91e",
   "metadata": {},
   "source": [
    "# STRUCTURED QUERY LANGUAGE"
   ]
  },
  {
   "cell_type": "code",
   "execution_count": 1,
   "id": "7e44294a",
   "metadata": {},
   "outputs": [],
   "source": [
    "#relational data base:\n",
    "#is a group of well defined table from where CRUD operation is performed\n",
    "#we can manupulate and update\n"
   ]
  },
  {
   "cell_type": "code",
   "execution_count": 2,
   "id": "a66bcd6b",
   "metadata": {},
   "outputs": [],
   "source": [
    "import sqlite3"
   ]
  },
  {
   "cell_type": "code",
   "execution_count": 3,
   "id": "e9f93808",
   "metadata": {},
   "outputs": [],
   "source": [
    "db=sqlite3.connect('practice.db')"
   ]
  },
  {
   "cell_type": "code",
   "execution_count": 4,
   "id": "31b9e4ba",
   "metadata": {},
   "outputs": [],
   "source": [
    "cur = db.cursor()"
   ]
  },
  {
   "cell_type": "code",
   "execution_count": 6,
   "id": "fc755c75",
   "metadata": {},
   "outputs": [
    {
     "data": {
      "text/plain": [
       "<sqlite3.Cursor at 0x212697aa8f0>"
      ]
     },
     "execution_count": 6,
     "metadata": {},
     "output_type": "execute_result"
    }
   ],
   "source": [
    "cur.execute(\"CREATE TABLE books (id INTGER primary key,name TEXT, cost INTEGER)\")"
   ]
  },
  {
   "cell_type": "code",
   "execution_count": 9,
   "id": "d9ccc053",
   "metadata": {},
   "outputs": [
    {
     "data": {
      "text/plain": [
       "<sqlite3.Cursor at 0x212697aa8f0>"
      ]
     },
     "execution_count": 9,
     "metadata": {},
     "output_type": "execute_result"
    }
   ],
   "source": [
    "cur.execute(\"INSERT INTO books values(1, 'python for DS',250),(2,'advanced python',100)\")"
   ]
  },
  {
   "cell_type": "code",
   "execution_count": 10,
   "id": "8fc6e148",
   "metadata": {},
   "outputs": [
    {
     "data": {
      "text/plain": [
       "[(1, 'python for DS', 250), (2, 'advanced python', 100)]"
      ]
     },
     "execution_count": 10,
     "metadata": {},
     "output_type": "execute_result"
    }
   ],
   "source": [
    "lstbooks = cur.execute('''select * from books''').fetchall()\n",
    "lstbooks"
   ]
  },
  {
   "cell_type": "code",
   "execution_count": 11,
   "id": "90ce603e",
   "metadata": {},
   "outputs": [
    {
     "data": {
      "text/plain": [
       "<sqlite3.Cursor at 0x212697aa8f0>"
      ]
     },
     "execution_count": 11,
     "metadata": {},
     "output_type": "execute_result"
    }
   ],
   "source": [
    "cur.execute(\"INSERT INTO books values(3,'maths',20),(4,'science',30),(5,'social',40)\")"
   ]
  },
  {
   "cell_type": "code",
   "execution_count": 12,
   "id": "8acabc2e",
   "metadata": {},
   "outputs": [],
   "source": [
    "db.commit()"
   ]
  },
  {
   "cell_type": "code",
   "execution_count": 13,
   "id": "3b484bbf",
   "metadata": {},
   "outputs": [
    {
     "data": {
      "text/plain": [
       "[(1, 'python for DS', 250),\n",
       " (2, 'advanced python', 100),\n",
       " (3, 'maths', 20),\n",
       " (4, 'science', 30),\n",
       " (5, 'social', 40)]"
      ]
     },
     "execution_count": 13,
     "metadata": {},
     "output_type": "execute_result"
    }
   ],
   "source": [
    "lstbooks = cur.execute('''select * from books''').fetchall()\n",
    "lstbooks"
   ]
  },
  {
   "cell_type": "code",
   "execution_count": 14,
   "id": "5a463d81",
   "metadata": {},
   "outputs": [],
   "source": [
    "import pandas as pd"
   ]
  },
  {
   "cell_type": "code",
   "execution_count": 15,
   "id": "dd46591a",
   "metadata": {},
   "outputs": [
    {
     "data": {
      "text/html": [
       "<div>\n",
       "<style scoped>\n",
       "    .dataframe tbody tr th:only-of-type {\n",
       "        vertical-align: middle;\n",
       "    }\n",
       "\n",
       "    .dataframe tbody tr th {\n",
       "        vertical-align: top;\n",
       "    }\n",
       "\n",
       "    .dataframe thead th {\n",
       "        text-align: right;\n",
       "    }\n",
       "</style>\n",
       "<table border=\"1\" class=\"dataframe\">\n",
       "  <thead>\n",
       "    <tr style=\"text-align: right;\">\n",
       "      <th></th>\n",
       "      <th>id</th>\n",
       "      <th>name</th>\n",
       "      <th>cost</th>\n",
       "    </tr>\n",
       "  </thead>\n",
       "  <tbody>\n",
       "    <tr>\n",
       "      <th>0</th>\n",
       "      <td>1</td>\n",
       "      <td>python for DS</td>\n",
       "      <td>250</td>\n",
       "    </tr>\n",
       "    <tr>\n",
       "      <th>1</th>\n",
       "      <td>2</td>\n",
       "      <td>advanced python</td>\n",
       "      <td>100</td>\n",
       "    </tr>\n",
       "    <tr>\n",
       "      <th>2</th>\n",
       "      <td>3</td>\n",
       "      <td>maths</td>\n",
       "      <td>20</td>\n",
       "    </tr>\n",
       "    <tr>\n",
       "      <th>3</th>\n",
       "      <td>4</td>\n",
       "      <td>science</td>\n",
       "      <td>30</td>\n",
       "    </tr>\n",
       "    <tr>\n",
       "      <th>4</th>\n",
       "      <td>5</td>\n",
       "      <td>social</td>\n",
       "      <td>40</td>\n",
       "    </tr>\n",
       "  </tbody>\n",
       "</table>\n",
       "</div>"
      ],
      "text/plain": [
       "   id             name  cost\n",
       "0   1    python for DS   250\n",
       "1   2  advanced python   100\n",
       "2   3            maths    20\n",
       "3   4          science    30\n",
       "4   5           social    40"
      ]
     },
     "execution_count": 15,
     "metadata": {},
     "output_type": "execute_result"
    }
   ],
   "source": [
    "dfbook = pd.read_sql_query(\"select * from books\",db)\n",
    "dfbook"
   ]
  },
  {
   "cell_type": "code",
   "execution_count": null,
   "id": "2216cd27",
   "metadata": {},
   "outputs": [],
   "source": []
  }
 ],
 "metadata": {
  "kernelspec": {
   "display_name": "Python 3",
   "language": "python",
   "name": "python3"
  },
  "language_info": {
   "codemirror_mode": {
    "name": "ipython",
    "version": 3
   },
   "file_extension": ".py",
   "mimetype": "text/x-python",
   "name": "python",
   "nbconvert_exporter": "python",
   "pygments_lexer": "ipython3",
   "version": "3.8.8"
  }
 },
 "nbformat": 4,
 "nbformat_minor": 5
}
