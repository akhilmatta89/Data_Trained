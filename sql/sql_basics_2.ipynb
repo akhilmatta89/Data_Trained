{
 "cells": [
  {
   "cell_type": "code",
   "execution_count": 1,
   "id": "aae536d4",
   "metadata": {},
   "outputs": [],
   "source": [
    "import sqlite3"
   ]
  },
  {
   "cell_type": "code",
   "execution_count": 2,
   "id": "dbe5c24e",
   "metadata": {},
   "outputs": [],
   "source": [
    "db = sqlite3.connect(\"practice_sql.db\")\n",
    "cur = db.cursor()"
   ]
  },
  {
   "cell_type": "code",
   "execution_count": 3,
   "id": "cb4a834d",
   "metadata": {},
   "outputs": [
    {
     "data": {
      "text/plain": [
       "<sqlite3.Cursor at 0x1f5049945e0>"
      ]
     },
     "execution_count": 3,
     "metadata": {},
     "output_type": "execute_result"
    }
   ],
   "source": [
    "cur.execute(\"CREATE TABLE student (id int primary key,name text, marks int)\")"
   ]
  },
  {
   "cell_type": "code",
   "execution_count": 4,
   "id": "e8be70bc",
   "metadata": {},
   "outputs": [
    {
     "data": {
      "text/plain": [
       "<sqlite3.Cursor at 0x1f5049945e0>"
      ]
     },
     "execution_count": 4,
     "metadata": {},
     "output_type": "execute_result"
    }
   ],
   "source": [
    "cur.execute(\"INSERT INTO student (id,name,marks) values (1,'john',85)\")"
   ]
  },
  {
   "cell_type": "code",
   "execution_count": 5,
   "id": "25a7700b",
   "metadata": {},
   "outputs": [
    {
     "data": {
      "text/plain": [
       "<sqlite3.Cursor at 0x1f5049945e0>"
      ]
     },
     "execution_count": 5,
     "metadata": {},
     "output_type": "execute_result"
    }
   ],
   "source": [
    "cur.execute(\"INSERT INTO student (id,name,marks) values (2,'steve',90),(3,'elon',100)\")"
   ]
  },
  {
   "cell_type": "code",
   "execution_count": 6,
   "id": "22e6cf44",
   "metadata": {},
   "outputs": [
    {
     "data": {
      "text/plain": [
       "<sqlite3.Cursor at 0x1f5049945e0>"
      ]
     },
     "execution_count": 6,
     "metadata": {},
     "output_type": "execute_result"
    }
   ],
   "source": [
    "cur.execute(\"INSERT INTO student values (4,'jeff',99)\")"
   ]
  },
  {
   "cell_type": "code",
   "execution_count": 7,
   "id": "069bbbcf",
   "metadata": {},
   "outputs": [
    {
     "name": "stdout",
     "output_type": "stream",
     "text": [
      "1 rows inserted\n"
     ]
    }
   ],
   "source": [
    "print(cur.rowcount,\"rows inserted\")"
   ]
  },
  {
   "cell_type": "code",
   "execution_count": 8,
   "id": "04d9a274",
   "metadata": {},
   "outputs": [],
   "source": [
    "db.commit;"
   ]
  },
  {
   "cell_type": "code",
   "execution_count": 9,
   "id": "7772920f",
   "metadata": {},
   "outputs": [
    {
     "name": "stdout",
     "output_type": "stream",
     "text": [
      "1 rows inserted\n"
     ]
    }
   ],
   "source": [
    "print(cur.rowcount,\"rows inserted\")"
   ]
  },
  {
   "cell_type": "code",
   "execution_count": 10,
   "id": "fbdc7960",
   "metadata": {},
   "outputs": [
    {
     "name": "stdout",
     "output_type": "stream",
     "text": [
      "(1, 'john', 85)\n",
      "(2, 'steve', 90)\n",
      "(3, 'elon', 100)\n",
      "(4, 'jeff', 99)\n"
     ]
    }
   ],
   "source": [
    "results = cur.execute(\"select * from student\")\n",
    "for row in results:\n",
    "    print(row)"
   ]
  },
  {
   "cell_type": "code",
   "execution_count": 15,
   "id": "ef5af088",
   "metadata": {},
   "outputs": [],
   "source": [
    "db1 = sqlite3.connect('practice_sqll.db')"
   ]
  },
  {
   "cell_type": "code",
   "execution_count": 16,
   "id": "03c8792b",
   "metadata": {},
   "outputs": [],
   "source": [
    "cur1 = db1.cursor()"
   ]
  },
  {
   "cell_type": "code",
   "execution_count": 17,
   "id": "ec48805b",
   "metadata": {},
   "outputs": [
    {
     "data": {
      "text/plain": [
       "<sqlite3.Cursor at 0x1f504caf180>"
      ]
     },
     "execution_count": 17,
     "metadata": {},
     "output_type": "execute_result"
    }
   ],
   "source": [
    "cur1.execute(\"create table employee (id int,name text,age int)\")"
   ]
  },
  {
   "cell_type": "code",
   "execution_count": 19,
   "id": "bfa79b3a",
   "metadata": {},
   "outputs": [
    {
     "data": {
      "text/plain": [
       "<sqlite3.Cursor at 0x1f504caf180>"
      ]
     },
     "execution_count": 19,
     "metadata": {},
     "output_type": "execute_result"
    }
   ],
   "source": [
    "cur1.execute(\"insert into employee values (1,'dom',45),(2,'jeff',40)\")"
   ]
  },
  {
   "cell_type": "code",
   "execution_count": 22,
   "id": "001cd1ec",
   "metadata": {},
   "outputs": [
    {
     "data": {
      "text/plain": [
       "<sqlite3.Cursor at 0x1f504caf180>"
      ]
     },
     "execution_count": 22,
     "metadata": {},
     "output_type": "execute_result"
    }
   ],
   "source": [
    "cur1.execute(\"insert into employee values (3,'slava',46),(4,'dairamuid',48)\")"
   ]
  },
  {
   "cell_type": "code",
   "execution_count": 23,
   "id": "dc8ccbff",
   "metadata": {},
   "outputs": [],
   "source": [
    "db1.commit;"
   ]
  },
  {
   "cell_type": "code",
   "execution_count": 25,
   "id": "7ef2ef17",
   "metadata": {},
   "outputs": [
    {
     "name": "stdout",
     "output_type": "stream",
     "text": [
      "(1, 'dom', 45)\n",
      "(2, 'jeff', 40)\n",
      "(3, 'slava', 46)\n",
      "(4, 'dairamuid', 48)\n"
     ]
    }
   ],
   "source": [
    "results = cur1.execute(\"select * from employee\")\n",
    "for row in results:\n",
    "    print(row)"
   ]
  },
  {
   "cell_type": "markdown",
   "id": "6411d442",
   "metadata": {},
   "source": [
    "# ACCESSING DATA STORED IN DB"
   ]
  },
  {
   "cell_type": "code",
   "execution_count": 26,
   "id": "f1f466c2",
   "metadata": {},
   "outputs": [
    {
     "data": {
      "text/plain": [
       "[(1, 'dom'), (2, 'jeff'), (3, 'slava'), (4, 'dairamuid')]"
      ]
     },
     "execution_count": 26,
     "metadata": {},
     "output_type": "execute_result"
    }
   ],
   "source": [
    "#if we wav only particular coulms data\n",
    "result = cur1.execute(\"select id,name from employee\")\n",
    "result.fetchall()"
   ]
  },
  {
   "cell_type": "code",
   "execution_count": 27,
   "id": "21fc50df",
   "metadata": {},
   "outputs": [
    {
     "data": {
      "text/plain": [
       "[('dom', 45), ('jeff', 40), ('slava', 46), ('dairamuid', 48)]"
      ]
     },
     "execution_count": 27,
     "metadata": {},
     "output_type": "execute_result"
    }
   ],
   "source": [
    "result = cur1.execute(\"select name,age from employee\")\n",
    "result.fetchall()"
   ]
  },
  {
   "cell_type": "code",
   "execution_count": 29,
   "id": "56d69a89",
   "metadata": {},
   "outputs": [
    {
     "data": {
      "text/plain": [
       "[(3, 'slava', 46)]"
      ]
     },
     "execution_count": 29,
     "metadata": {},
     "output_type": "execute_result"
    }
   ],
   "source": [
    "dat=cur1.execute(\"select * from employee where name='slava'\")\n",
    "dat.fetchall()"
   ]
  },
  {
   "cell_type": "code",
   "execution_count": 30,
   "id": "0632a874",
   "metadata": {},
   "outputs": [
    {
     "data": {
      "text/plain": [
       "[(1, 'dom', 45)]"
      ]
     },
     "execution_count": 30,
     "metadata": {},
     "output_type": "execute_result"
    }
   ],
   "source": [
    "dat=cur1.execute(\"select * from employee where id=1\")\n",
    "dat.fetchall()"
   ]
  },
  {
   "cell_type": "code",
   "execution_count": 38,
   "id": "3adb039b",
   "metadata": {},
   "outputs": [
    {
     "data": {
      "text/plain": [
       "[(2, 'jeff', 40)]"
      ]
     },
     "execution_count": 38,
     "metadata": {},
     "output_type": "execute_result"
    }
   ],
   "source": [
    "dat=cur1.execute(\"select * from employee where id=2\")\n",
    "dat.fetchall()"
   ]
  },
  {
   "cell_type": "code",
   "execution_count": 39,
   "id": "bf56c042",
   "metadata": {},
   "outputs": [
    {
     "data": {
      "text/plain": [
       "[('slava',)]"
      ]
     },
     "execution_count": 39,
     "metadata": {},
     "output_type": "execute_result"
    }
   ],
   "source": [
    "dat=cur1.execute(\"select name from employee where id=3\")\n",
    "dat.fetchall()"
   ]
  },
  {
   "cell_type": "code",
   "execution_count": 40,
   "id": "f8153c41",
   "metadata": {},
   "outputs": [
    {
     "data": {
      "text/plain": [
       "[(46,)]"
      ]
     },
     "execution_count": 40,
     "metadata": {},
     "output_type": "execute_result"
    }
   ],
   "source": [
    "dat=cur1.execute(\"select age from employee where id=3\")\n",
    "dat.fetchall()"
   ]
  },
  {
   "cell_type": "code",
   "execution_count": 41,
   "id": "49db0440",
   "metadata": {},
   "outputs": [
    {
     "data": {
      "text/plain": [
       "[(3, 'slava', 46)]"
      ]
     },
     "execution_count": 41,
     "metadata": {},
     "output_type": "execute_result"
    }
   ],
   "source": [
    "dat=cur1.execute(\"select * from employee where age>45 and age<47\")\n",
    "dat.fetchall()"
   ]
  },
  {
   "cell_type": "code",
   "execution_count": 56,
   "id": "6349c1ad",
   "metadata": {},
   "outputs": [
    {
     "data": {
      "text/plain": [
       "[(3, 'slava', 46)]"
      ]
     },
     "execution_count": 56,
     "metadata": {},
     "output_type": "execute_result"
    }
   ],
   "source": [
    "dat=cur1.execute(\"select * from employee where name='slava' and age=46\")\n",
    "dat.fetchall()"
   ]
  },
  {
   "cell_type": "code",
   "execution_count": 58,
   "id": "22b3ba34",
   "metadata": {},
   "outputs": [
    {
     "data": {
      "text/plain": [
       "[(3, 'slava', 46)]"
      ]
     },
     "execution_count": 58,
     "metadata": {},
     "output_type": "execute_result"
    }
   ],
   "source": [
    "dat=cur1.execute(\"select * from employee where name='slava' or age=100\")\n",
    "dat.fetchall()"
   ]
  },
  {
   "cell_type": "code",
   "execution_count": 59,
   "id": "0e53f861",
   "metadata": {},
   "outputs": [
    {
     "data": {
      "text/plain": [
       "[(2, 'jeff', 40), (3, 'slava', 46)]"
      ]
     },
     "execution_count": 59,
     "metadata": {},
     "output_type": "execute_result"
    }
   ],
   "source": [
    "dat=cur1.execute(\"select * from employee where name='slava' or age=40\")\n",
    "dat.fetchall()"
   ]
  },
  {
   "cell_type": "markdown",
   "id": "402de796",
   "metadata": {},
   "source": [
    "# order by clause"
   ]
  },
  {
   "cell_type": "code",
   "execution_count": 42,
   "id": "4010e9b9",
   "metadata": {},
   "outputs": [
    {
     "data": {
      "text/plain": [
       "[(4, 'dairamuid', 48), (1, 'dom', 45), (2, 'jeff', 40), (3, 'slava', 46)]"
      ]
     },
     "execution_count": 42,
     "metadata": {},
     "output_type": "execute_result"
    }
   ],
   "source": [
    "dat=cur1.execute(\"select * from employee order by name asc\")\n",
    "dat.fetchall()"
   ]
  },
  {
   "cell_type": "code",
   "execution_count": 43,
   "id": "17b75afc",
   "metadata": {},
   "outputs": [
    {
     "data": {
      "text/plain": [
       "[(1, 'dom', 45), (2, 'jeff', 40), (3, 'slava', 46), (4, 'dairamuid', 48)]"
      ]
     },
     "execution_count": 43,
     "metadata": {},
     "output_type": "execute_result"
    }
   ],
   "source": [
    "dat=cur1.execute(\"select * from employee order by id asc\")\n",
    "dat.fetchall()"
   ]
  },
  {
   "cell_type": "code",
   "execution_count": 46,
   "id": "cbb61c18",
   "metadata": {},
   "outputs": [
    {
     "data": {
      "text/plain": [
       "[(3, 'slava', 46), (2, 'jeff', 40), (1, 'dom', 45), (4, 'dairamuid', 48)]"
      ]
     },
     "execution_count": 46,
     "metadata": {},
     "output_type": "execute_result"
    }
   ],
   "source": [
    "dat=cur1.execute(\"select * from employee order by name desc\")\n",
    "dat.fetchall()"
   ]
  },
  {
   "cell_type": "markdown",
   "id": "e1398c53",
   "metadata": {},
   "source": [
    "# keywords"
   ]
  },
  {
   "cell_type": "code",
   "execution_count": 60,
   "id": "f30d66d5",
   "metadata": {},
   "outputs": [
    {
     "data": {
      "text/plain": [
       "[(48,)]"
      ]
     },
     "execution_count": 60,
     "metadata": {},
     "output_type": "execute_result"
    }
   ],
   "source": [
    "dat=cur1.execute(\"select max(age) from employee\")\n",
    "dat.fetchall()"
   ]
  },
  {
   "cell_type": "code",
   "execution_count": 61,
   "id": "84e0d0ba",
   "metadata": {},
   "outputs": [
    {
     "data": {
      "text/plain": [
       "[(40,)]"
      ]
     },
     "execution_count": 61,
     "metadata": {},
     "output_type": "execute_result"
    }
   ],
   "source": [
    "dat=cur1.execute(\"select min(age) from employee\")\n",
    "dat.fetchall()"
   ]
  },
  {
   "cell_type": "code",
   "execution_count": 62,
   "id": "6dffb6ab",
   "metadata": {},
   "outputs": [
    {
     "data": {
      "text/plain": [
       "[(44.75,)]"
      ]
     },
     "execution_count": 62,
     "metadata": {},
     "output_type": "execute_result"
    }
   ],
   "source": [
    "dat=cur1.execute(\"select avg(age) from employee\")\n",
    "dat.fetchall()"
   ]
  },
  {
   "cell_type": "code",
   "execution_count": 63,
   "id": "a310109b",
   "metadata": {},
   "outputs": [
    {
     "data": {
      "text/plain": [
       "[(4,)]"
      ]
     },
     "execution_count": 63,
     "metadata": {},
     "output_type": "execute_result"
    }
   ],
   "source": [
    "dat=cur1.execute(\"select count(id) from employee\")\n",
    "dat.fetchall()"
   ]
  },
  {
   "cell_type": "code",
   "execution_count": 65,
   "id": "a433124c",
   "metadata": {},
   "outputs": [
    {
     "data": {
      "text/plain": [
       "[(1, 'dom', 45), (3, 'slava', 46), (4, 'dairamuid', 48)]"
      ]
     },
     "execution_count": 65,
     "metadata": {},
     "output_type": "execute_result"
    }
   ],
   "source": [
    "dat=cur1.execute(\"select * from employee where age between 45 and 49\")\n",
    "dat.fetchall()"
   ]
  },
  {
   "cell_type": "code",
   "execution_count": 66,
   "id": "865eaf7a",
   "metadata": {},
   "outputs": [
    {
     "data": {
      "text/plain": [
       "[(1, 'dom', 45), (2, 'jeff', 40), (3, 'slava', 46), (4, 'dairamuid', 48)]"
      ]
     },
     "execution_count": 66,
     "metadata": {},
     "output_type": "execute_result"
    }
   ],
   "source": [
    "dat=cur1.execute(\"select * from employee where age is not null\")\n",
    "dat.fetchall()"
   ]
  },
  {
   "cell_type": "code",
   "execution_count": 67,
   "id": "f5f20c22",
   "metadata": {},
   "outputs": [
    {
     "data": {
      "text/plain": [
       "[]"
      ]
     },
     "execution_count": 67,
     "metadata": {},
     "output_type": "execute_result"
    }
   ],
   "source": [
    "dat=cur1.execute(\"select * from employee where age is null\")\n",
    "dat.fetchall()"
   ]
  },
  {
   "cell_type": "code",
   "execution_count": 68,
   "id": "d3f6d338",
   "metadata": {},
   "outputs": [
    {
     "data": {
      "text/plain": [
       "[(1, 'dom', 45), (4, 'dairamuid', 48)]"
      ]
     },
     "execution_count": 68,
     "metadata": {},
     "output_type": "execute_result"
    }
   ],
   "source": [
    "dat=cur1.execute(\"select * from employee where name like 'd%'\")\n",
    "dat.fetchall()"
   ]
  },
  {
   "cell_type": "code",
   "execution_count": 69,
   "id": "917f46ac",
   "metadata": {},
   "outputs": [
    {
     "data": {
      "text/plain": [
       "[(4, 'dairamuid', 48)]"
      ]
     },
     "execution_count": 69,
     "metadata": {},
     "output_type": "execute_result"
    }
   ],
   "source": [
    "dat=cur1.execute(\"select * from employee where name like '%d'\")\n",
    "dat.fetchall()"
   ]
  },
  {
   "cell_type": "code",
   "execution_count": 72,
   "id": "76327698",
   "metadata": {},
   "outputs": [
    {
     "data": {
      "text/plain": [
       "[(4, 'dairamuid', 48)]"
      ]
     },
     "execution_count": 72,
     "metadata": {},
     "output_type": "execute_result"
    }
   ],
   "source": [
    "dat=cur1.execute(\"select * from employee where name like '__i%'\")\n",
    "dat.fetchall()"
   ]
  },
  {
   "cell_type": "code",
   "execution_count": 75,
   "id": "ec0cfc0b",
   "metadata": {},
   "outputs": [
    {
     "data": {
      "text/plain": [
       "[(3, 'slava', 46), (4, 'dairamuid', 48)]"
      ]
     },
     "execution_count": 75,
     "metadata": {},
     "output_type": "execute_result"
    }
   ],
   "source": [
    "dat=cur1.execute(\"select * from employee where name like '%a%'\")\n",
    "dat.fetchall()"
   ]
  },
  {
   "cell_type": "code",
   "execution_count": 76,
   "id": "f5236e62",
   "metadata": {},
   "outputs": [
    {
     "data": {
      "text/plain": [
       "[(1, 'dom', 45), (2, 'jeff', 40), (3, 'slava', 46), (4, 'dairamuid', 48)]"
      ]
     },
     "execution_count": 76,
     "metadata": {},
     "output_type": "execute_result"
    }
   ],
   "source": [
    "dat=cur1.execute(\"select * from employee where age NOT in (50)\")\n",
    "dat.fetchall()"
   ]
  },
  {
   "cell_type": "code",
   "execution_count": 77,
   "id": "54128bb2",
   "metadata": {},
   "outputs": [
    {
     "data": {
      "text/plain": [
       "[(2, 'jeff', 40), (3, 'slava', 46), (4, 'dairamuid', 48)]"
      ]
     },
     "execution_count": 77,
     "metadata": {},
     "output_type": "execute_result"
    }
   ],
   "source": [
    "dat=cur1.execute(\"select * from employee where name NOT in ('dom')\")\n",
    "dat.fetchall()"
   ]
  },
  {
   "cell_type": "code",
   "execution_count": 78,
   "id": "49481ea7",
   "metadata": {},
   "outputs": [
    {
     "name": "stdout",
     "output_type": "stream",
     "text": [
      "(1, 'dom', 45)\n",
      "(2, 'jeff', 40)\n",
      "(3, 'slava', 46)\n",
      "(4, 'dairamuid', 48)\n"
     ]
    }
   ],
   "source": [
    "results = cur1.execute(\"select * from employee\")\n",
    "for row in results:\n",
    "    print(row)"
   ]
  },
  {
   "cell_type": "markdown",
   "id": "fd97a08f",
   "metadata": {},
   "source": [
    "# UPDATING RECORD"
   ]
  },
  {
   "cell_type": "code",
   "execution_count": 79,
   "id": "a6880bd1",
   "metadata": {},
   "outputs": [
    {
     "data": {
      "text/plain": [
       "<sqlite3.Cursor at 0x1f504caf180>"
      ]
     },
     "execution_count": 79,
     "metadata": {},
     "output_type": "execute_result"
    }
   ],
   "source": [
    "#UPDATING RECORD\n",
    "sql = \"update employee set age=46 where id=1\"\n",
    "cur1.execute(sql)"
   ]
  },
  {
   "cell_type": "code",
   "execution_count": 80,
   "id": "2d20b8b2",
   "metadata": {},
   "outputs": [
    {
     "name": "stdout",
     "output_type": "stream",
     "text": [
      "(1, 'dom', 46)\n",
      "(2, 'jeff', 40)\n",
      "(3, 'slava', 46)\n",
      "(4, 'dairamuid', 48)\n"
     ]
    }
   ],
   "source": [
    "results = cur1.execute(\"select * from employee\")\n",
    "for row in results:\n",
    "    print(row)"
   ]
  },
  {
   "cell_type": "code",
   "execution_count": 81,
   "id": "fb3b34cc",
   "metadata": {},
   "outputs": [
    {
     "data": {
      "text/plain": [
       "<sqlite3.Cursor at 0x1f504caf180>"
      ]
     },
     "execution_count": 81,
     "metadata": {},
     "output_type": "execute_result"
    }
   ],
   "source": [
    "#updating multiple records\n",
    "sql = \"update employee set age=35 where id in (1,2)\"\n",
    "cur1.execute(sql)"
   ]
  },
  {
   "cell_type": "code",
   "execution_count": 82,
   "id": "5c16a6a7",
   "metadata": {},
   "outputs": [
    {
     "name": "stdout",
     "output_type": "stream",
     "text": [
      "(1, 'dom', 35)\n",
      "(2, 'jeff', 35)\n",
      "(3, 'slava', 46)\n",
      "(4, 'dairamuid', 48)\n"
     ]
    }
   ],
   "source": [
    "results = cur1.execute(\"select * from employee\")\n",
    "for row in results:\n",
    "    print(row)"
   ]
  },
  {
   "cell_type": "markdown",
   "id": "33cb698e",
   "metadata": {},
   "source": [
    "# DELETING RECORDS"
   ]
  },
  {
   "cell_type": "code",
   "execution_count": 83,
   "id": "5223b4eb",
   "metadata": {},
   "outputs": [
    {
     "data": {
      "text/plain": [
       "<sqlite3.Cursor at 0x1f504caf180>"
      ]
     },
     "execution_count": 83,
     "metadata": {},
     "output_type": "execute_result"
    }
   ],
   "source": [
    "sql=\"delete from employee where id = 1\"\n",
    "cur1.execute(sql)"
   ]
  },
  {
   "cell_type": "code",
   "execution_count": 84,
   "id": "d79c3720",
   "metadata": {},
   "outputs": [
    {
     "name": "stdout",
     "output_type": "stream",
     "text": [
      "(2, 'jeff', 35)\n",
      "(3, 'slava', 46)\n",
      "(4, 'dairamuid', 48)\n"
     ]
    }
   ],
   "source": [
    "results = cur1.execute(\"select * from employee\")\n",
    "for row in results:\n",
    "    print(row)"
   ]
  },
  {
   "cell_type": "markdown",
   "id": "8257b412",
   "metadata": {},
   "source": [
    "# DROP TABLE"
   ]
  },
  {
   "cell_type": "code",
   "execution_count": 85,
   "id": "acaf1061",
   "metadata": {},
   "outputs": [
    {
     "data": {
      "text/plain": [
       "<sqlite3.Cursor at 0x1f504caf180>"
      ]
     },
     "execution_count": 85,
     "metadata": {},
     "output_type": "execute_result"
    }
   ],
   "source": [
    "sql = 'drop table employee'\n",
    "cur1.execute(sql)"
   ]
  },
  {
   "cell_type": "code",
   "execution_count": 86,
   "id": "20c568b3",
   "metadata": {},
   "outputs": [
    {
     "ename": "OperationalError",
     "evalue": "no such table: employee",
     "output_type": "error",
     "traceback": [
      "\u001b[1;31m---------------------------------------------------------------------------\u001b[0m",
      "\u001b[1;31mOperationalError\u001b[0m                          Traceback (most recent call last)",
      "\u001b[1;32m<ipython-input-86-db3fcddad436>\u001b[0m in \u001b[0;36m<module>\u001b[1;34m\u001b[0m\n\u001b[1;32m----> 1\u001b[1;33m \u001b[0mresults\u001b[0m \u001b[1;33m=\u001b[0m \u001b[0mcur1\u001b[0m\u001b[1;33m.\u001b[0m\u001b[0mexecute\u001b[0m\u001b[1;33m(\u001b[0m\u001b[1;34m\"select * from employee\"\u001b[0m\u001b[1;33m)\u001b[0m\u001b[1;33m\u001b[0m\u001b[1;33m\u001b[0m\u001b[0m\n\u001b[0m\u001b[0;32m      2\u001b[0m \u001b[1;32mfor\u001b[0m \u001b[0mrow\u001b[0m \u001b[1;32min\u001b[0m \u001b[0mresults\u001b[0m\u001b[1;33m:\u001b[0m\u001b[1;33m\u001b[0m\u001b[1;33m\u001b[0m\u001b[0m\n\u001b[0;32m      3\u001b[0m     \u001b[0mprint\u001b[0m\u001b[1;33m(\u001b[0m\u001b[0mrow\u001b[0m\u001b[1;33m)\u001b[0m\u001b[1;33m\u001b[0m\u001b[1;33m\u001b[0m\u001b[0m\n",
      "\u001b[1;31mOperationalError\u001b[0m: no such table: employee"
     ]
    }
   ],
   "source": [
    "results = cur1.execute(\"select * from employee\")\n",
    "for row in results:\n",
    "    print(row)"
   ]
  },
  {
   "cell_type": "code",
   "execution_count": 87,
   "id": "0abb6c5e",
   "metadata": {},
   "outputs": [],
   "source": [
    "db.close()"
   ]
  },
  {
   "cell_type": "code",
   "execution_count": 88,
   "id": "276ecd3d",
   "metadata": {},
   "outputs": [],
   "source": [
    "db1.close()"
   ]
  },
  {
   "cell_type": "code",
   "execution_count": null,
   "id": "5cae6f5a",
   "metadata": {},
   "outputs": [],
   "source": []
  }
 ],
 "metadata": {
  "kernelspec": {
   "display_name": "Python 3",
   "language": "python",
   "name": "python3"
  },
  "language_info": {
   "codemirror_mode": {
    "name": "ipython",
    "version": 3
   },
   "file_extension": ".py",
   "mimetype": "text/x-python",
   "name": "python",
   "nbconvert_exporter": "python",
   "pygments_lexer": "ipython3",
   "version": "3.8.8"
  }
 },
 "nbformat": 4,
 "nbformat_minor": 5
}
