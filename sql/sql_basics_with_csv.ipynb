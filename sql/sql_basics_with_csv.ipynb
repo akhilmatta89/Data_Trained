{
 "cells": [
  {
   "cell_type": "markdown",
   "id": "ce676311",
   "metadata": {},
   "source": [
    "# adding data into table with csv"
   ]
  },
  {
   "cell_type": "code",
   "execution_count": 1,
   "id": "37d8f8db",
   "metadata": {},
   "outputs": [],
   "source": [
    "import sqlite3"
   ]
  },
  {
   "cell_type": "code",
   "execution_count": 2,
   "id": "71e461cc",
   "metadata": {},
   "outputs": [
    {
     "data": {
      "text/plain": [
       "<sqlite3.Cursor at 0x249e0ce08f0>"
      ]
     },
     "execution_count": 2,
     "metadata": {},
     "output_type": "execute_result"
    }
   ],
   "source": [
    "db=sqlite3.connect('scores_database.db')\n",
    "cur = db.cursor()\n",
    "cur.execute(\"create table scores (gender text,student_id int primary key,marks int)\")"
   ]
  },
  {
   "cell_type": "code",
   "execution_count": 3,
   "id": "36772cea",
   "metadata": {},
   "outputs": [
    {
     "data": {
      "text/plain": [
       "<sqlite3.Cursor at 0x249e0ce08f0>"
      ]
     },
     "execution_count": 3,
     "metadata": {},
     "output_type": "execute_result"
    }
   ],
   "source": [
    "cur.execute(\"insert into scores (gender,student_id,marks) values ('male',101,55)\")"
   ]
  },
  {
   "cell_type": "code",
   "execution_count": 4,
   "id": "002149c3",
   "metadata": {},
   "outputs": [
    {
     "name": "stdout",
     "output_type": "stream",
     "text": [
      "('male', 101, 55)\n"
     ]
    }
   ],
   "source": [
    "db.commit;\n",
    "result = cur.execute('select * from scores')\n",
    "for row in result:\n",
    "    print(row)"
   ]
  },
  {
   "cell_type": "code",
   "execution_count": 6,
   "id": "9629f967",
   "metadata": {},
   "outputs": [
    {
     "name": "stdout",
     "output_type": "stream",
     "text": [
      "15 records inserted\n"
     ]
    }
   ],
   "source": [
    "with open ('scores_file.csv','r') as file:\n",
    "    total_rcrds=0\n",
    "    for row in file:\n",
    "        cur.execute('insert into scores values(?,?,?)',row.split(','))\n",
    "        db.commit()\n",
    "        total_rcrds+=1\n",
    "print(total_rcrds, \"records inserted\")"
   ]
  },
  {
   "cell_type": "code",
   "execution_count": 7,
   "id": "2a140ed0",
   "metadata": {},
   "outputs": [
    {
     "name": "stdout",
     "output_type": "stream",
     "text": [
      "('male', 101, 55)\n",
      "('male', 102, 45)\n",
      "('female', 103, 48)\n",
      "('male', 104, 54)\n",
      "('female', 105, 65)\n",
      "('female', 106, 45)\n",
      "('male', 107, 99)\n",
      "('female', 108, 88)\n",
      "('male', 109, 77)\n",
      "('male', 110, 86)\n",
      "('female', 111, 91)\n",
      "('male', 112, 76)\n",
      "('male', 113, 93)\n",
      "('female', 114, 45)\n",
      "('male', 115, 45)\n",
      "('female', 116, 99)\n"
     ]
    }
   ],
   "source": [
    "result = cur.execute('select * from scores')\n",
    "for row in result:\n",
    "    print(row)"
   ]
  },
  {
   "cell_type": "code",
   "execution_count": 8,
   "id": "53077dfa",
   "metadata": {},
   "outputs": [
    {
     "data": {
      "text/plain": [
       "<sqlite3.Cursor at 0x249e0ce08f0>"
      ]
     },
     "execution_count": 8,
     "metadata": {},
     "output_type": "execute_result"
    }
   ],
   "source": [
    "sql = \"update scores set marks=100 where student_id=105\"\n",
    "cur.execute(sql)"
   ]
  },
  {
   "cell_type": "code",
   "execution_count": 9,
   "id": "d139b0f7",
   "metadata": {},
   "outputs": [
    {
     "name": "stdout",
     "output_type": "stream",
     "text": [
      "('male', 101, 55)\n",
      "('male', 102, 45)\n",
      "('female', 103, 48)\n",
      "('male', 104, 54)\n",
      "('female', 105, 100)\n",
      "('female', 106, 45)\n",
      "('male', 107, 99)\n",
      "('female', 108, 88)\n",
      "('male', 109, 77)\n",
      "('male', 110, 86)\n",
      "('female', 111, 91)\n",
      "('male', 112, 76)\n",
      "('male', 113, 93)\n",
      "('female', 114, 45)\n",
      "('male', 115, 45)\n",
      "('female', 116, 99)\n"
     ]
    }
   ],
   "source": [
    "result = cur.execute('select * from scores')\n",
    "for row in result:\n",
    "    print(row)"
   ]
  },
  {
   "cell_type": "code",
   "execution_count": 11,
   "id": "f3d9792f",
   "metadata": {},
   "outputs": [
    {
     "data": {
      "text/plain": [
       "[('male', 102, 45),\n",
       " ('female', 106, 45),\n",
       " ('female', 114, 45),\n",
       " ('male', 115, 45),\n",
       " ('female', 103, 48),\n",
       " ('male', 104, 54),\n",
       " ('male', 101, 55),\n",
       " ('male', 112, 76),\n",
       " ('male', 109, 77),\n",
       " ('male', 110, 86),\n",
       " ('female', 108, 88),\n",
       " ('female', 111, 91),\n",
       " ('male', 113, 93),\n",
       " ('male', 107, 99),\n",
       " ('female', 116, 99),\n",
       " ('female', 105, 100)]"
      ]
     },
     "execution_count": 11,
     "metadata": {},
     "output_type": "execute_result"
    }
   ],
   "source": [
    "rs = cur.execute(\"select * from scores order by marks\")\n",
    "rs.fetchall()"
   ]
  },
  {
   "cell_type": "code",
   "execution_count": 12,
   "id": "b508679d",
   "metadata": {},
   "outputs": [
    {
     "data": {
      "text/plain": [
       "[('female', 105, 100),\n",
       " ('male', 107, 99),\n",
       " ('female', 116, 99),\n",
       " ('male', 113, 93),\n",
       " ('female', 111, 91),\n",
       " ('female', 108, 88),\n",
       " ('male', 110, 86),\n",
       " ('male', 109, 77),\n",
       " ('male', 112, 76),\n",
       " ('male', 101, 55),\n",
       " ('male', 104, 54),\n",
       " ('female', 103, 48),\n",
       " ('male', 102, 45),\n",
       " ('female', 106, 45),\n",
       " ('female', 114, 45),\n",
       " ('male', 115, 45)]"
      ]
     },
     "execution_count": 12,
     "metadata": {},
     "output_type": "execute_result"
    }
   ],
   "source": [
    "rs = cur.execute(\"select * from scores order by marks desc\")\n",
    "rs.fetchall()"
   ]
  },
  {
   "cell_type": "code",
   "execution_count": 13,
   "id": "a4f38c54",
   "metadata": {},
   "outputs": [
    {
     "data": {
      "text/plain": [
       "[(100,)]"
      ]
     },
     "execution_count": 13,
     "metadata": {},
     "output_type": "execute_result"
    }
   ],
   "source": [
    "rs = cur.execute(\"select max(marks) from scores\")\n",
    "rs.fetchall()"
   ]
  },
  {
   "cell_type": "code",
   "execution_count": 14,
   "id": "1a3f5a10",
   "metadata": {},
   "outputs": [
    {
     "data": {
      "text/plain": [
       "[(45,)]"
      ]
     },
     "execution_count": 14,
     "metadata": {},
     "output_type": "execute_result"
    }
   ],
   "source": [
    "rs = cur.execute(\"select min(marks) from scores\")\n",
    "rs.fetchall()"
   ]
  },
  {
   "cell_type": "code",
   "execution_count": 15,
   "id": "97d7e618",
   "metadata": {},
   "outputs": [
    {
     "data": {
      "text/plain": [
       "[(116,)]"
      ]
     },
     "execution_count": 15,
     "metadata": {},
     "output_type": "execute_result"
    }
   ],
   "source": [
    "rs = cur.execute(\"select max(student_id) from scores\")\n",
    "rs.fetchall()"
   ]
  },
  {
   "cell_type": "code",
   "execution_count": 16,
   "id": "802c3494",
   "metadata": {},
   "outputs": [
    {
     "data": {
      "text/plain": [
       "[(101,)]"
      ]
     },
     "execution_count": 16,
     "metadata": {},
     "output_type": "execute_result"
    }
   ],
   "source": [
    "rs = cur.execute(\"select min(student_id) from scores\")\n",
    "rs.fetchall()"
   ]
  },
  {
   "cell_type": "code",
   "execution_count": 18,
   "id": "ae75d817",
   "metadata": {},
   "outputs": [
    {
     "data": {
      "text/plain": [
       "[('male',), ('female',)]"
      ]
     },
     "execution_count": 18,
     "metadata": {},
     "output_type": "execute_result"
    }
   ],
   "source": [
    "rs = cur.execute('SELECT DISTINCT gender FROM scores')\n",
    "rs.fetchall()"
   ]
  },
  {
   "cell_type": "code",
   "execution_count": 19,
   "id": "b68b5c1c",
   "metadata": {},
   "outputs": [],
   "source": [
    "db.close()"
   ]
  },
  {
   "cell_type": "code",
   "execution_count": null,
   "id": "6bf723ad",
   "metadata": {},
   "outputs": [],
   "source": []
  }
 ],
 "metadata": {
  "kernelspec": {
   "display_name": "Python 3",
   "language": "python",
   "name": "python3"
  },
  "language_info": {
   "codemirror_mode": {
    "name": "ipython",
    "version": 3
   },
   "file_extension": ".py",
   "mimetype": "text/x-python",
   "name": "python",
   "nbconvert_exporter": "python",
   "pygments_lexer": "ipython3",
   "version": "3.8.8"
  }
 },
 "nbformat": 4,
 "nbformat_minor": 5
}
