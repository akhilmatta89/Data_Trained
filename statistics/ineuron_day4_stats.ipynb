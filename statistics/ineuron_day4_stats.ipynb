{
 "cells": [
  {
   "cell_type": "code",
   "execution_count": 17,
   "id": "726a8b5a",
   "metadata": {},
   "outputs": [],
   "source": [
    "#IQR WITH PYTHON\n",
    "#PROBABILITY\n",
    "#Permutation and combination\n",
    "#confidence intervals\n",
    "#p value\n",
    "#hypothesis testing"
   ]
  },
  {
   "cell_type": "markdown",
   "id": "71fe0dcd",
   "metadata": {},
   "source": [
    "# z-score and IQR"
   ]
  },
  {
   "cell_type": "code",
   "execution_count": 18,
   "id": "f8ceee79",
   "metadata": {},
   "outputs": [],
   "source": [
    "###OUTLIERS\n",
    "import numpy as np\n",
    "import matplotlib.pyplot as plt\n",
    "%matplotlib inline"
   ]
  },
  {
   "cell_type": "code",
   "execution_count": 44,
   "id": "346a2934",
   "metadata": {},
   "outputs": [],
   "source": [
    "##Define the dataset\n",
    "#dataset = [10,20,30,49,85,62,56,100,25,86,43,25,86,101,56,200,32,12,8,9,10,6,5,4,3,2]\n",
    "outliers = []\n",
    "dataset = [11,10,12,14,12,15,14,13,15,102,12,14,17,19,107, 10,13,12,14,12,108,12,11,14,13,15,10,15,12,10,14,13,15,10]\n"
   ]
  },
  {
   "cell_type": "code",
   "execution_count": 45,
   "id": "1f83ed0c",
   "metadata": {},
   "outputs": [
    {
     "data": {
      "text/plain": [
       "(array([31.,  0.,  0.,  0.,  0.,  0.,  0.,  0.,  0.,  3.]),\n",
       " array([ 10. ,  19.8,  29.6,  39.4,  49.2,  59. ,  68.8,  78.6,  88.4,\n",
       "         98.2, 108. ]),\n",
       " <BarContainer object of 10 artists>)"
      ]
     },
     "execution_count": 45,
     "metadata": {},
     "output_type": "execute_result"
    },
    {
     "data": {
      "image/png": "[encoded data removed]",
      "text/plain": [
       "<Figure size 432x288 with 1 Axes>"
      ]
     },
     "metadata": {
      "needs_background": "light"
     },
     "output_type": "display_data"
    }
   ],
   "source": [
    "plt.hist(dataset)"
   ]
  },
  {
   "cell_type": "code",
   "execution_count": 46,
   "id": "85141935",
   "metadata": {},
   "outputs": [],
   "source": [
    "def detect_outliers(data):\n",
    "    threshold = 3  ###defines 3rd std\n",
    "    mean = np.mean(data)\n",
    "    std = np.std(data)\n",
    "    for i in data:\n",
    "        zscore = (i-mean)/std\n",
    "        if np.abs(zscore) > threshold:\n",
    "            outliers.append(i)\n",
    "    return outliers"
   ]
  },
  {
   "cell_type": "code",
   "execution_count": 47,
   "id": "95fb7b1e",
   "metadata": {},
   "outputs": [
    {
     "data": {
      "text/plain": [
       "[102, 107, 108]"
      ]
     },
     "execution_count": 47,
     "metadata": {},
     "output_type": "execute_result"
    }
   ],
   "source": [
    "detect_outliers(dataset)"
   ]
  },
  {
   "cell_type": "code",
   "execution_count": 48,
   "id": "c603da19",
   "metadata": {},
   "outputs": [],
   "source": [
    "from scipy.stats import zscore"
   ]
  },
  {
   "cell_type": "code",
   "execution_count": 49,
   "id": "4405de71",
   "metadata": {},
   "outputs": [
    {
     "data": {
      "text/plain": [
       "array([-0.38587723, -0.4237958 , -0.34795866, -0.27212152, -0.34795866,\n",
       "       -0.23420294, -0.27212152, -0.31004009, -0.23420294,  3.06471282,\n",
       "       -0.34795866, -0.27212152, -0.1583658 , -0.08252866,  3.25430567,\n",
       "       -0.4237958 , -0.31004009, -0.34795866, -0.27212152, -0.34795866,\n",
       "        3.29222425, -0.34795866, -0.38587723, -0.27212152, -0.31004009,\n",
       "       -0.23420294, -0.4237958 , -0.23420294, -0.34795866, -0.4237958 ,\n",
       "       -0.27212152, -0.31004009, -0.23420294, -0.4237958 ])"
      ]
     },
     "execution_count": 49,
     "metadata": {},
     "output_type": "execute_result"
    }
   ],
   "source": [
    "c = zscore(dataset)\n",
    "c"
   ]
  },
  {
   "cell_type": "code",
   "execution_count": 52,
   "id": "f05826b9",
   "metadata": {},
   "outputs": [
    {
     "data": {
      "text/plain": [
       "{'whiskers': [<matplotlib.lines.Line2D at 0x19d0ac16df0>,\n",
       "  <matplotlib.lines.Line2D at 0x19d0ac23190>],\n",
       " 'caps': [<matplotlib.lines.Line2D at 0x19d0ac234f0>,\n",
       "  <matplotlib.lines.Line2D at 0x19d0ac23850>],\n",
       " 'boxes': [<matplotlib.lines.Line2D at 0x19d0ac16a90>],\n",
       " 'medians': [<matplotlib.lines.Line2D at 0x19d0ac23bb0>],\n",
       " 'fliers': [<matplotlib.lines.Line2D at 0x19d0ac23f10>],\n",
       " 'means': []}"
      ]
     },
     "execution_count": 52,
     "metadata": {},
     "output_type": "execute_result"
    },
    {
     "data": {
      "image/png": "[encoded data removed]",
      "text/plain": [
       "<Figure size 432x288 with 1 Axes>"
      ]
     },
     "metadata": {
      "needs_background": "light"
     },
     "output_type": "display_data"
    }
   ],
   "source": [
    "plt.boxplot(c)"
   ]
  },
  {
   "cell_type": "code",
   "execution_count": 53,
   "id": "175b9ac8",
   "metadata": {},
   "outputs": [],
   "source": [
    "#IQR\n",
    "#SORT THE DATA\n",
    "#CALUCULATE Q1 AND Q3\n",
    "#FINDOUT IQR ----> SUBTRACTION OF Q3-Q1\n",
    "#FIND LOWER FENCE ----> (Q1-1.5(IQR))\n",
    "#FIND UPPER FENCE ------>(Q3+1.5(IQR))"
   ]
  },
  {
   "cell_type": "code",
   "execution_count": 54,
   "id": "c4930a31",
   "metadata": {},
   "outputs": [],
   "source": [
    "#sorting\n",
    "dataset = sorted(dataset)"
   ]
  },
  {
   "cell_type": "code",
   "execution_count": 57,
   "id": "43048a73",
   "metadata": {},
   "outputs": [
    {
     "name": "stdout",
     "output_type": "stream",
     "text": [
      "12.0 15.0\n"
     ]
    }
   ],
   "source": [
    "#finding q1 and q3 percentile\n",
    "q1,q3 = np.percentile(dataset,[25,75])\n",
    "print(q1,q3)"
   ]
  },
  {
   "cell_type": "code",
   "execution_count": 58,
   "id": "5276a921",
   "metadata": {},
   "outputs": [
    {
     "data": {
      "text/plain": [
       "3.0"
      ]
     },
     "execution_count": 58,
     "metadata": {},
     "output_type": "execute_result"
    }
   ],
   "source": [
    "iqr=q3-q1\n",
    "iqr"
   ]
  },
  {
   "cell_type": "code",
   "execution_count": 59,
   "id": "b15d1b22",
   "metadata": {},
   "outputs": [],
   "source": [
    "#finding lower fence and upper fence\n",
    "upper_fence = q3+(1.5*iqr)\n",
    "lower_fence = q1-(1.5*iqr)"
   ]
  },
  {
   "cell_type": "code",
   "execution_count": 60,
   "id": "79599eef",
   "metadata": {},
   "outputs": [
    {
     "name": "stdout",
     "output_type": "stream",
     "text": [
      "7.5 19.5\n"
     ]
    }
   ],
   "source": [
    "print(lower_fence,upper_fence)"
   ]
  },
  {
   "cell_type": "code",
   "execution_count": 68,
   "id": "78a9bd56",
   "metadata": {},
   "outputs": [],
   "source": [
    "def finding_outliers_from_iqr(dataset,lower_fence,upper_fence):\n",
    "    data=dataset\n",
    "    for i in dataset:\n",
    "        if i<lower_fence or i>upper_fence:\n",
    "            data.remove(i)\n",
    "        else:\n",
    "            pass\n",
    "    return data"
   ]
  },
  {
   "cell_type": "code",
   "execution_count": 69,
   "id": "2132401d",
   "metadata": {},
   "outputs": [
    {
     "data": {
      "text/plain": [
       "[10,\n",
       " 10,\n",
       " 10,\n",
       " 10,\n",
       " 10,\n",
       " 11,\n",
       " 11,\n",
       " 12,\n",
       " 12,\n",
       " 12,\n",
       " 12,\n",
       " 12,\n",
       " 12,\n",
       " 12,\n",
       " 13,\n",
       " 13,\n",
       " 13,\n",
       " 13,\n",
       " 14,\n",
       " 14,\n",
       " 14,\n",
       " 14,\n",
       " 14,\n",
       " 14,\n",
       " 15,\n",
       " 15,\n",
       " 15,\n",
       " 15,\n",
       " 15,\n",
       " 17,\n",
       " 19]"
      ]
     },
     "execution_count": 69,
     "metadata": {},
     "output_type": "execute_result"
    }
   ],
   "source": [
    "finding_outliers_from_iqr(dataset,lower_fence,upper_fence)"
   ]
  },
  {
   "cell_type": "code",
   "execution_count": 73,
   "id": "fac59548",
   "metadata": {},
   "outputs": [
    {
     "name": "stderr",
     "output_type": "stream",
     "text": [
      "C:\\Users\\Akhil\\anaconda3\\lib\\site-packages\\seaborn\\_decorators.py:36: FutureWarning: Pass the following variable as a keyword arg: x. From version 0.12, the only valid positional argument will be `data`, and passing other arguments without an explicit keyword will result in an error or misinterpretation.\n",
      "  warnings.warn(\n"
     ]
    },
    {
     "data": {
      "text/plain": [
       "<AxesSubplot:>"
      ]
     },
     "execution_count": 73,
     "metadata": {},
     "output_type": "execute_result"
    },
    {
     "data": {
      "image/png": "[encoded data removed]",
      "text/plain": [
       "<Figure size 432x288 with 1 Axes>"
      ]
     },
     "metadata": {
      "needs_background": "light"
     },
     "output_type": "display_data"
    }
   ],
   "source": [
    "import seaborn as sns\n",
    "sns.boxplot(data)"
   ]
  },
  {
   "cell_type": "code",
   "execution_count": null,
   "id": "24d22999",
   "metadata": {},
   "outputs": [],
   "source": []
  }
 ],
 "metadata": {
  "kernelspec": {
   "display_name": "Python 3",
   "language": "python",
   "name": "python3"
  },
  "language_info": {
   "codemirror_mode": {
    "name": "ipython",
    "version": 3
   },
   "file_extension": ".py",
   "mimetype": "text/x-python",
   "name": "python",
   "nbconvert_exporter": "python",
   "pygments_lexer": "ipython3",
   "version": "3.8.8"
  }
 },
 "nbformat": 4,
 "nbformat_minor": 5
}
